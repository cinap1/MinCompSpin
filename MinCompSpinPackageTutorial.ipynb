{
 "cells": [
  {
   "cell_type": "markdown",
   "metadata": {},
   "source": [
    "<a id='start'></a>\n",
    "#  Statistical inference of high-order interactions in binary data through Minimally Complex (spin) Models\n",
    "### Tutorial\n",
    "\n",
    "This is a tutorial for the MinCompSpinPackage which is an R package for the original C++ program MinCompSpin (https://github.com/clelidm/MinCompSpin) whose implementation was based on the paper: Statistical Inference of Minimally Complex Models (2021) by Clélia de Mulatier, Paolo P. Mazza, and Matteo Marsili. In arXiv: 2008.00520 [cs.AI].\n",
    "\n",
    "This notebook contains a showcase of the package's functionality with some additional visualizations and explanations of it. Some parts of the explanation are originally from MinCompSpin's GitHub.\n",
    "\n",
    "Below in the index you can find the overview of this tutorial. Section 2's sub-sections are in order of how the functions should be for detecting community structures.\n"
   ]
  },
  {
   "cell_type": "markdown",
   "metadata": {},
   "source": [
    "## Index\n",
    "\n",
    "- [0. Installing the package](#install)\n",
    "     - [0.1. Linux/ Mac systems](#unix)\n",
    "     - [0.2. Windows systems](#windows)\n",
    "\n",
    "- [0. Loading the package](#load)\n",
    "\n",
    "- [1. Theoretic Introduction](#intro)\n",
    "\n",
    "- [2. Detecting Communities](#use)\n",
    "     - [2.1 Setting the required variables](#set)\n",
    "     - [2.2. Read data](#read_datafile)\n",
    "     - [2.3. Choose a Basis](#basis)\n",
    "     - [2.4. Build Kset according to basis](#kset)\n",
    "     - [2.5. Analyzing all independent and sub-complete models](#print)\n",
    "     - [2.6. Finding the best MCM](#mcm_search)\n",
    "         - [2.6.1 Finding the best MCM (after running 2.1 - 2.5)](#mcm_search_dependent)\n",
    "         - [2.6.2 Finding the best MCM (all previous steps combined in one function call)](#mcm_search_aao)\n",
    "- [3. Analyis of the Big5 Personality test | a statistical analysis with the package](#sa_start)\n",
    "     - [3.1  Analysis results on a subset of the Big5 data-set](#sa_set)     \n",
    "     - [3.2 Inspecting the Log-Evidence](#inspect_loge)\n",
    "***"
   ]
  },
  {
   "cell_type": "markdown",
   "metadata": {},
   "source": [
    "<a id='install'></a>\n",
    "## 0. Installing the package\n",
    "\n",
    "Disregard this section if you have already succesfully installed the package. To check for succesfull installation try loading the library in the [next section](#load)!\n",
    "\n",
    "\n",
    "<a id='unix'></a>\n",
    "### LINUX/MAC SYSTEMS:\n",
    "\n",
    "**1 | Install from a tar file (downloaded from the github repo):**\n",
    "\n",
    "- Download the package tar from github.\n",
    "- Installing the package can be done in 2 ways:\n",
    "\n",
    "  1. Through the Terminal:\n",
    "      > Open the Terminal in the directory the tar file is in and enter:\n",
    "        ```R\n",
    "        R CMD INSTALL MinCompSpinPackage_1.0.tar.gz\n",
    "        ```\n",
    "        In the script you can now load the package.\n",
    "\n",
    "  2. In R prompt or R script:\n",
    "    \n",
    "      > Use the following commands to install:\n",
    "        ```R\n",
    "        path_to_file = file.path(getwd(), \"MinCompSpinPackage_1.0.tar.gz\")\n",
    "        install.packages(path_to_file, repos = NULL, type=\"source\")\n",
    "        ```\n",
    "***\n",
    "<a id='windows'></a>\n",
    "### WINDOWS SYSTEMS\n",
    "  1. As https://stat.ethz.ch/pipermail/r-help/2008-August/169599.html states:\n",
    "\n",
    "      > If you have the Rtools on Windows (available from\n",
    "        http://www.murdoch-sutherland.com/Rtools, get the installer\n",
    "        Rtools28.exe), then you can install it in Windows using:\n",
    "        \n",
    "        ```R\n",
    "        install.packages(\"foo.tar.gz\", repos=NULL, type=\"source\")\n",
    "        ```\n",
    "      > or from a command line using:\n",
    "        \n",
    "        ```R\n",
    "        Rcmd INSTALL foo.tar.gz\n",
    "        ```\n",
    "***"
   ]
  },
  {
   "cell_type": "markdown",
   "metadata": {},
   "source": [
    "<a id='load'></a>\n",
    "## 0. Load the package  \n",
    "\n",
    "Before the package can be loaded, it first needs to be installed. Follow the instructions in [section 0](#install) for more information.\n",
    "\n",
    "If succefully loaded you should see no output."
   ]
  },
  {
   "cell_type": "code",
   "execution_count": 1,
   "metadata": {},
   "outputs": [],
   "source": [
    "library(MinCompSpinPackage)"
   ]
  },
  {
   "attachments": {
    "2-Figure1-1.png": {
     "image/png": "[encoded data removed]"
    }
   },
   "cell_type": "markdown",
   "metadata": {},
   "source": [
    "***\n",
    "<a id='intro'></a>\n",
    "## 1.Theoretic introduction\n",
    "\n",
    "This section will contain a short introduction to the theory behind the program to gain an understanding of the package and its available functions.\n",
    "\n",
    "The search for community structures in binary data is based on finding the best model that describes the data. A model in this context refers to Minimally Complex (spin) Models (MCMs).\n",
    "\n",
    "\n",
    "### What is an MCM and how can it describe a community?\n",
    "The search for community structures starts by representing the data as spin models that can have interactions of every  order i.e. pairwise, three body, four body etc. More  explicitly, the  variables of the binary data points are partitioned and along with the interactions within those partitions, they describe a spin model.\n",
    "\n",
    "\n",
    "An MCM stands for Minimally Complex (spin) Model and is a subset of spin models. \n",
    "The main difference between MCMs and spin models is in the assumed interactions between and within partitions of variables. Each MCM corresponds to a partitioning of binary spin variables which have no interactions at all between the parts, and all interactions of every order within each part. For instance, if for every data point of a binary data set $( \\hat{s} = {s^{(1)}, ..., s^{(N)}})$ there are 10 binary spin variables $(s_{0},..., s_{9} )$, those 10 variables can be partitioned into 5 variables, 3 variables and 2 variables. Within those partitions all interactions are assumed: so the 5 variable community would contain 5 single body interactions, ${5 \\choose 2}$ pairwise interactions,  ${5 \\choose 3}$  three body interactions, 5 four body interactions and one five body interaction. But between partitions there are no interactions. This is unlike spin models that also allow for interactions between the parts. \n",
    "\n",
    "An example of 3 MCMs are shown below:\n",
    "\n",
    "![2-Figure1-1.png](attachment:2-Figure1-1.png)\n",
    "\n",
    "In this example each model contains 6 variables which are partitioned into communities. The black dots represent single body interactions, the blue lines represent pair-wise interactions, the orange triangle represents three-body interactions and finally the blue triangle represents four-body interactions.\n",
    "\n",
    "MCM (a) defines 2 communities of 3 variables each. MCM (b) defines 2 communities containing two variables and 1 community containing one. MCM (c) defines 2 communities, 1 containing two variables and 1 containing 5.\n",
    "\n",
    "#### How does an MCM correspond to community structures of a binary data-set\n",
    "An MCM consists of partitions of variables in which the partitions have no interactions with each other meaning that every spin variable can only exist in one partition. \n",
    "So if a data-set consists of data-points that contain the variables $s_{0}, s_{1}, s_{2}, s_{3}, s_{4}, s_{5}, s_{6}, s_{7}, s_{8}, s_{9}$, an example of an MCM in which the variables are all in one community is:\n",
    "\n",
    "        MCM = {\"111111111\"}\n",
    "\n",
    "This MCM contains 1 partition and the partition is defined as \"111111111\". It is a binary string of the same size as a data-point of the data-set. The string represents the variables in the same order as the spin variables are represented in the data. But its value indicates whether it is part of the partition or not. Therefore since are all part of the same community, all values of the partition are set to 1. \n",
    "\n",
    "| $s_{0} $ | $s_{1}$ | $s_{2}$ | $s_{3} $| $s_{4}$ | $s_{5}$ | $s_{6}$ | $s_{7}$ | $s_{8}$ | $s_{9}$ |\n",
    "| :- | :-: | :-: | :-: | :-: | :-: | :-: | :-: | :-: | :-: | \n",
    "| 1 | 1 | 1 | 1 | 1 | 1 | 1 | 1 | 1 | 1 | 1 |\n",
    "\n",
    "\n",
    "Example 2:\n",
    "This is an MCM consisting of the 3 partitions {$s_{0}, s_{2}, s_{6}, s_{8}$}, {$s_{1}, s_{7}, s_{9}$} and {$s_{3}, s_{4}, s_{5} $}\n",
    "\n",
    "         MCM = {\"10100010100\", \"01000001010\", \"00011100000\"}\n",
    "\n",
    "         \n",
    "| $s_{0} $ | $s_{1}$ | $s_{2}$ | $s_{3} $| $s_{4}$ | $s_{5}$ | $s_{6}$ | $s_{7}$ | $s_{8}$ | $s_{9}$ |\n",
    "| :- | :-: | :-: | :-: | :-: | :-: | :-: | :-: | :-: | :-: | \n",
    "| 1 | 0 | 1 | 0 | 0 | 0 | 1 | 0 | 1 | 0 | 0 |\n",
    "| 0 | 1 | 0 | 0 | 0 | 0 | 0 | 1 | 0 | 1 | 0 |\n",
    "| 0 | 0 | 0 | 1 | 1 | 1 | 0 | 0 | 0 | 0 | 0 |\n",
    "\n",
    "\n",
    "         \n",
    "\n",
    "#### Define MCMs with MinCompSpinPackage\n",
    "\n",
    "In the program an MCM is defined in the same way but internally the partitions are in integer representation.\n",
    "\n",
    "Displayed below is an example of how to define an MCM for the Shapes data-set that contains 9 binary spin variables manually and from a file. The file from which the MCM's partitions are read should contain one partition per row.\n",
    "\n",
    "The output is a list of two vectors in which the first vector contains the spin variable and the second contains the integer representation of the binary partitions.\n",
    "\n"
   ]
  },
  {
   "cell_type": "code",
   "execution_count": 9,
   "metadata": {},
   "outputs": [
    {
     "name": "stdout",
     "output_type": "stream",
     "text": [
      "[1] --------------------------------------\n",
      "[1] \"MCM Choice\"\n",
      " int [1:8] 384 64 32 16 8 4 2 1\n",
      "[1] --------------------------------------\n",
      "[1] \"Defining MCM from MCM_Choice:\"\n",
      "List of 2\n",
      " $ : num [1:8] 0 1 2 3 4 5 6 7\n",
      " $ : num [1:8] 384 64 32 16 8 4 2 1\n",
      "[1] --------------------------------------\n",
      "[1] \"Read MCM from file containing the same binary string with which MCM_Choice was created:\"\n",
      "List of 2\n",
      " $ : num [1:8] 0 1 2 3 4 5 6 7\n",
      " $ : num [1:8] 384 64 32 16 8 4 2 1\n",
      "[1] --------------------------------------\n"
     ]
    }
   ],
   "source": [
    "input_data <- \"data/Shapes/Dataset_Shapes_n9_MCM_Binary.dat\"\n",
    "\n",
    "n <- 9 # binary (spin) variables\n",
    "\n",
    "# An MCM is described by which partitioning of variables in contains in integer representation.\n",
    "part_01 <- strtoi(\"110000000\", base = 2) # = 384\n",
    "part_02 <- strtoi(\"001000000\", base = 2) # = 64\n",
    "part_03 <- strtoi(\"000100000\", base = 2) # = 32\n",
    "part_04 <- strtoi(\"000010000\", base = 2) # = 16\n",
    "part_05 <- strtoi(\"000001000\", base = 2) # = 8\n",
    "part_06 <- strtoi(\"000000100\", base = 2) # = 4\n",
    "part_07 <- strtoi(\"000000010\", base = 2) # = 2\n",
    "part_08 <- strtoi(\"000000001\", base = 2) # = 1\n",
    "\n",
    "# MCM_Choice0 <- c(384, 64, 32, 16, 8, 4, 2, 1) # The same as MCM_Choice0!\n",
    "MCM_Choice <- c(part_01, part_02, part_03, part_04, part_05, part_06, part_07, part_08)\n",
    "\n",
    "print(\"--------------------------------------\", quote=FALSE)\n",
    "print('MCM Choice')\n",
    "# str(MCM_Choice0)\n",
    "str(MCM_Choice)\n",
    "print(\"--------------------------------------\", quote=FALSE)\n",
    "print('Defining MCM from MCM_Choice:')\n",
    "MCM_manual <- Create_MCM(MCM_Choice)\n",
    "str(MCM_manual)\n",
    "print(\"--------------------------------------\", quote=FALSE)\n",
    "print('Read MCM from file containing the same binary string with which MCM_Choice was created:')\n",
    "MCM_file <- Read_MCMParts_BinaryRepresentation(input_data, n);\n",
    "str(MCM_file)\n",
    "print(\"--------------------------------------\", quote=FALSE)"
   ]
  },
  {
   "cell_type": "markdown",
   "metadata": {},
   "source": [
    "It is possible to check that the self defined model properly defines an MCM by calling the function below."
   ]
  },
  {
   "cell_type": "code",
   "execution_count": 10,
   "metadata": {},
   "outputs": [
    {
     "name": "stdout",
     "output_type": "stream",
     "text": [
      "\n",
      "--->> Read \"data/Shapes/Dataset_Shapes_n9_MCM_Binary.dat\",\t Build Nset...\t\t data size N = 8\n",
      "********** General Information about the MCM: **********\n",
      "Best MCM has 8 partitions and the following properties:\n",
      "\t LogL = -24.1133\n",
      " \t C_param = 1.20782 \t \t C_geom = 10.3026\n",
      " \t Total complexity = 11.5104\n",
      " \t MDL = -35.6237\n",
      "  \t LogE = -38.028\n",
      "\n",
      "********** Information about each part of the MCM: **********\n",
      "\t (the total LogE of the model is the sum of the values for each part)\n",
      "\t !! The first operator of the basis provided corresponds to the bit the most on the right !!\n",
      "\t !! The last operator corresponds to the bit the most on the left !!\n",
      "\n",
      "## 1:Part_int \t 2:Part_binary \t 3:LogL \t 4:C_param \t 5:C_geom \t 6:C_tot \t 7:LogE\n",
      " \t 384 \t 110000000 \t-3.01416 \t0.362347 \t 2.28946 \t2.65181 \t-7.67771\n",
      " \t 64 \t 001000000 \t-3.01416 \t0.120782 \t 1.14473 \t1.26551 \t-4.33575\n",
      " \t 32 \t 000100000 \t-3.01416 \t0.120782 \t 1.14473 \t1.26551 \t-4.33575\n",
      " \t 16 \t 000010000 \t-3.01416 \t0.120782 \t 1.14473 \t1.26551 \t-4.33575\n",
      " \t 8 \t 000001000 \t-3.01416 \t0.120782 \t 1.14473 \t1.26551 \t-4.33575\n",
      " \t 4 \t 000000100 \t-3.01416 \t0.120782 \t 1.14473 \t1.26551 \t-4.33575\n",
      " \t 2 \t 000000010 \t-3.01416 \t0.120782 \t 1.14473 \t1.26551 \t-4.33575\n",
      " \t 1 \t 000000001 \t-3.01416 \t0.120782 \t 1.14473 \t1.26551 \t-4.33575\n",
      "\n"
     ]
    }
   ],
   "source": [
    "N <- 0L\n",
    "Nset <- read_datafile(N, n, input_data) # Reads the input data-file\n",
    "\n",
    "if(check_partition(MCM_manual, n)) # Checks whether the provided MCM correctly defines one for the data-set.\n",
    "{\n",
    "  PrintTerminal_MCM_Info(Nset, N, n, MCM_manual);\n",
    "} else {\n",
    "  print(\"The set of 'parts' provided does not form a partition of the basis elements.\")\n",
    "}\n"
   ]
  },
  {
   "cell_type": "markdown",
   "metadata": {},
   "source": [
    "### How are communities detected ?\n",
    "\n",
    "<!-- Explain here how it happens, what parameters are used to determine the best Mddel, explain about Bayesian model selection... etc. -->\n",
    "\n",
    "Community structures within a binary data-set are found by finding the most appropriate MCM defining the data-set. Determining the most appropriate choice is achieved through Bayesian Model Selection. Thus, when looking for a model the Log-likelihood (LogL), Log-evidence (LogE) and complexity (C_tot = C_param + C_geom) of the model are all taken into account.  The model with the highest Log-evidence is the most appropriate model.\n",
    "\n",
    "\n",
    "Before an exhaustive search for the best MCM is done, the search of MCMs is first cut down. This is done by finding the best model among all Independent Models (IMs), which are models composed of independent variables. These are models in which every variable is in its own community. The maximization of the evidence over all IMs is done by choosing the basis b (set of independent operators that can generate all operators of the model) of the n most biased independent operators in the data set. \n",
    " \n",
    "Then the search is restricted to the subset of models that have b as a preferred basis. And with this, the algorithm becomes feasible for data sets with at most 15 spin variables."
   ]
  },
  {
   "cell_type": "markdown",
   "metadata": {},
   "source": [
    "#### Printing Information regarding MCMs \n",
    "\n",
    "Below are three supplementary functions to print some information about an MCM.\n",
    "\n",
    "##### Log-Likelihood (LogL)"
   ]
  },
  {
   "cell_type": "code",
   "execution_count": 11,
   "metadata": {},
   "outputs": [
    {
     "data": {
      "text/html": [
       "-24.113290320412"
      ],
      "text/latex": [
       "-24.113290320412"
      ],
      "text/markdown": [
       "-24.113290320412"
      ],
      "text/plain": [
       "[1] -24.11329"
      ]
     },
     "metadata": {},
     "output_type": "display_data"
    }
   ],
   "source": [
    "LogL_MCM(Nset, MCM_file, N, n)"
   ]
  },
  {
   "cell_type": "markdown",
   "metadata": {},
   "source": [
    "##### Log-Evidence (LogE)"
   ]
  },
  {
   "cell_type": "code",
   "execution_count": 12,
   "metadata": {},
   "outputs": [
    {
     "data": {
      "text/html": [
       "-38.0279607789549"
      ],
      "text/latex": [
       "-38.0279607789549"
      ],
      "text/markdown": [
       "-38.0279607789549"
      ],
      "text/plain": [
       "[1] -38.02796"
      ]
     },
     "metadata": {},
     "output_type": "display_data"
    }
   ],
   "source": [
    "LogE_MCM(Nset, MCM_file, N, n)"
   ]
  },
  {
   "cell_type": "markdown",
   "metadata": {},
   "source": [
    "##### Complexity\n",
    "\n",
    "An MCM's Complexity is a summation of two terms. Geometric and Parametric complexity. For Parametric complexity, the more interactions in an MCM, the larger the term will be. Geometric complexity says something about how complex the model is depending on the chosen parameters. \n"
   ]
  },
  {
   "cell_type": "code",
   "execution_count": 13,
   "metadata": {},
   "outputs": [
    {
     "name": "stdout",
     "output_type": "stream",
     "text": [
      "[1] \"Total Complexity: \"\n"
     ]
    },
    {
     "data": {
      "text/html": [
       "11.5103913489971"
      ],
      "text/latex": [
       "11.5103913489971"
      ],
      "text/markdown": [
       "11.5103913489971"
      ],
      "text/plain": [
       "[1] 11.51039"
      ]
     },
     "metadata": {},
     "output_type": "display_data"
    },
    {
     "name": "stdout",
     "output_type": "stream",
     "text": [
      "[1] \"Parametric Complexity: 1.20782237635245\"\n",
      "[1] \"Geometric Complexity: 10.3025689726446\"\n",
      "[1] \"C_param + C_geom: 11.5103913489971\"\n"
     ]
    }
   ],
   "source": [
    "C_param <- 0\n",
    "C_geom <- 0\n",
    "\n",
    "print(\"Total Complexity: \")\n",
    "Complexity_MCM(MCM_file, N, n, C_param, C_geom)\n",
    "\n",
    "print(paste0(\"Parametric Complexity: \", C_param))\n",
    "print(paste0(\"Geometric Complexity: \", C_geom))\n",
    "\n",
    "print(paste0(\"C_param + C_geom: \", C_geom + C_param))"
   ]
  },
  {
   "cell_type": "markdown",
   "metadata": {},
   "source": [
    "[Jump to the start](#start)\n",
    "\n",
    "***\n",
    "\n",
    "<a id='use'></a>\n",
    "## 2. Detecting communities with the package\n",
    "\n",
    "The data-set that will be used in this showcase is that of the US Supreme Court which contains voting data of nine judges on 895 votings ($N$ = 895). The aim is detect communities i.e. grouping of judges using the package.\n",
    "\n",
    "#### More about the US Supreme Court data-set\n",
    "Every data-point is a voting and contains nine binary variables corresponding to the vote each of the nine judges casted. The table below shows which binary variables correspond to which judge. The judges are denoted by their initials.\n",
    "\n",
    "| $N$  | WR | JS | SO | AS | AK | DS | CT | RG | SB |\n",
    "| :- | :-: | :-: | :-: | :-: | :-: | :-: | :-: | :-: | :-: |\n",
    "| 1 | 0 | 1 | 1 | 1 | 1 | 1 | 1 | 1 | 1 |\n",
    "| 2 | 1 | 1 | 1 | 1 | 1 | 1 | 1 | 1 | 1 |\n",
    "| 3 | 1 | 1 | 1 | 1 | 1 | 1 | 1 | 1 | 1 |\n",
    "| 4 | 0 | 0 | 0 | 0 | 0 | 0 | 0 | 0 | 0 |\n",
    "| 5 | 1 | 0 | 1 | 1 | 0 | 0 | 1 | 0 | 0 |\n",
    "| . | . | . | . | . | . | . | . | . | . |\n",
    "| 894 | 1 | 1 | 1 | 1 | 1 | 1 | 1 | 1 | 1 |\n",
    "| 895 | 1 | 1 | 1 | 0 | 1 | 0 | 1 | 0 | 1 |\n",
    "\n",
    "\n",
    "\n",
    "\n",
    "\n",
    "\n",
    "<a id='set'></a>\n",
    "### 2.1 Setting the required variables.\n",
    "\n",
    "Before using the program to detect communities, some variables need to be set and data-file paths need to be defined.\n",
    "\n",
    "#### The input data-set\n",
    "\n",
    "The input data-set is the data on which the community detection algorithm should be performed. This binary file should be formatted in such a way that every line must only contain one data-point and they must all be written as binary strings of 0's and 1's encoded on at least $n$ bits (with no spaces between the bits).\n",
    "\n",
    "\n",
    "<div class=\"alert alert-block alert-info\">\n",
    "<b>Warning:</b> Be aware that defining the wrong path to the data-file and running the program with it can cause R to crash. Make sure the path is correct. \n",
    "</div>\n",
    "\n",
    "\n"
   ]
  },
  {
   "cell_type": "code",
   "execution_count": 14,
   "metadata": {},
   "outputs": [],
   "source": [
    "# Set the path to the data-file.\n",
    "datafile_name <- 'data/US_SupremeCourt/SCOTUS_n9_N895_OldBasis.dat'"
   ]
  },
  {
   "cell_type": "markdown",
   "metadata": {},
   "source": [
    "#### Number of binary (spin) variables ($n$)\n",
    "\n",
    "The number of binary (spin) variables ($n$) is equal to the total amount of variables per data-point which, in the case of the US Supreme Court data, is nine."
   ]
  },
  {
   "cell_type": "code",
   "execution_count": 15,
   "metadata": {},
   "outputs": [],
   "source": [
    "n <- 9"
   ]
  },
  {
   "cell_type": "markdown",
   "metadata": {},
   "source": [
    "#### Output directory name\n",
    "\n",
    "The results of the community detection will be stored in a directory. Here a new sub-directory is created in the current working directory.\n"
   ]
  },
  {
   "cell_type": "code",
   "execution_count": 16,
   "metadata": {},
   "outputs": [
    {
     "name": "stdout",
     "output_type": "stream",
     "text": [
      "[1] --->> Create OUTPUT Folder: (if needed) \n",
      "[1] \"Directory already exists.\"\n"
     ]
    }
   ],
   "source": [
    "# Create output directoy in the working directory if it does not already exist.\n",
    "print(\"--->> Create OUTPUT Folder: (if needed) \", quote = FALSE)\n",
    "\n",
    "curDir <- getwd()\n",
    "output_dir <- 'OUTPUT_9var_USSCourt'\n",
    "\n",
    "if(!dir.exists(file.path(curDir, output_dir))) {\n",
    "  dir.create(file.path(curDir, output_dir))  \n",
    "} else {\n",
    "    print(\"Directory already exists.\")\n",
    "}\n"
   ]
  },
  {
   "cell_type": "markdown",
   "metadata": {},
   "source": [
    "<a id='read_datafile'></a>\n",
    "### 2.2 Reading the data | Creating Nset\n",
    "\n",
    "First the data-set needs to be read. The function read_datafile() takes three input parameters:\n",
    "\n",
    "| Input variable | Description |\n",
    "| :- | :---------------------: | \n",
    "| $N$ | An empty integer variable that will contain the size of the entire data-set after running read_datafile() | \n",
    "| $n$ | The amount of binary (spin) variables  | \n",
    "| datafile_name | The location and name of the data-set file. | \n",
    "\n",
    "read_datafile() then returns a list containing every (binary) state and its frequency of occurrence in the data-set. Thus the function counts how many times the same data-points (which is seen as a state) occur in the entire data-set. The states are saved in integer representation (e.g. \"000000001\" = 1 and \"110000000\" = 384).\n",
    "\n",
    "Although $N$ is not returned, the defined variable does contain the size of the data-set after the function ran its course. In order for the function to be able to adjust the defined variable, $N$ must be explicitly defined as an integer. In R integers are specified by the suffix L (e.g. 1L )."
   ]
  },
  {
   "cell_type": "code",
   "execution_count": 17,
   "metadata": {
    "scrolled": true
   },
   "outputs": [
    {
     "name": "stdout",
     "output_type": "stream",
     "text": [
      "\n",
      "--->> Read \"data/US_SupremeCourt/SCOTUS_n9_N895_OldBasis.dat\",\t Build Nset...\t\t data size N = 895\n",
      "[1] Nset contains:\n",
      "List of 2\n",
      " $ : int [1:128] 383 511 0 356 36 325 375 308 64 292 ...\n",
      " $ : int [1:128] 61 221 174 17 29 1 7 31 1 29 ...\n"
     ]
    }
   ],
   "source": [
    "N <- 0L # This will contain the number of datapoints in the dataset.\n",
    "\n",
    "Nset <- read_datafile(N, n, datafile_name)\n",
    "\n",
    "# prints\n",
    "print(\"Nset contains:\", quote=FALSE)\n",
    "str(Nset)\n",
    "\n",
    "# N check \n",
    "if (!N > 0) {\n",
    "    print(paste(\"N =\", N))\n",
    "    print(\"N is either numeric and is therefore still empty (read_datafile takes an integer vector) or the data-set is empty. Set N manually based on read_datafile output.\")\n",
    "    \n",
    "    N <- 895 # N of the US Supreme Court data-set.\n",
    "    print(paste(\"N =\", N))\n",
    "}"
   ]
  },
  {
   "cell_type": "code",
   "execution_count": 18,
   "metadata": {},
   "outputs": [
    {
     "name": "stdout",
     "output_type": "stream",
     "text": [
      "[1] All unique states of the data-set in integer representation:\n",
      "  [1] 383 511   0 356  36 325 375 308  64 292 472 381   4 403  65 288 438 235\n",
      " [19] 372 328  52 382 260  76 300 310 357 311 478 132 129 373 358 100 367 217\n",
      " [37] 324  32 139 446 493 258 128 409 256 316 380 294 323 254 211 116 502 130\n",
      " [55] 231 237 411  16 341 500 133 213 221 467 368 503 508 321 475  20 337 160\n",
      " [73] 364  82 469 487 331 501  33 338 479 353 142 176 305 510 111 509 346 464\n",
      " [91] 436  67 439 318 287 374 459  75 352 164 387  44 203 415 369 320 309   1\n",
      "[109]  68 379 473 180 336 365 276 291 166 171 430 471 359 172 275 333 468 452\n",
      "[127] 175 195\n"
     ]
    },
    {
     "data": {
      "image/png": "[encoded data removed]",
      "text/plain": [
       "Plot with title “Nset | Distribution of states in the US Supreme Court data-set”"
      ]
     },
     "metadata": {
      "image/png": {
       "height": 420,
       "width": 420
      }
     },
     "output_type": "display_data"
    }
   ],
   "source": [
    "# Small visualization of Nset.\n",
    "print(\"All unique states of the data-set in integer representation:\", quote=FALSE)\n",
    "print(Nset[[1]])\n",
    "\n",
    "barplot(height=Nset[[2]], main=\"Nset | Distribution of states in the US Supreme Court data-set\" , log=\"y\",  \n",
    "        xlab=\"States in order of the list printed above\", ylab=\"Occurrence\")"
   ]
  },
  {
   "cell_type": "markdown",
   "metadata": {},
   "source": [
    " <a id='basis'></a>\n",
    "### 2.3 Choosing the basis\n",
    "The next step is to choose a basis. The basis is a list containing integers of the $n$ most biased independent variables in the data-set. Each integer defines a spin operator on which the MCM will be build. By defining the basis the search for the best MCM can be restricted to a subset of models that have the defined basis as a preferred basis. \n",
    "\n",
    "The amount of elements the basis contains ($m$) can be less than $n$ (amount of bianry variables in the data-set). This will exclude some spin variables from being modeled at all.\n",
    "\n",
    "The basis can be defined manually or read from a file with Read_BasisOp_BinaryRepresentation() for a file containing the binary representation of it and with Read_BasisOp_IntegerRepresentation() for a file containing the integer representation of it.\n",
    " \n",
    "To manually define the basis, the basis elements must be written using the integer representation of the spin variable.\n",
    "For instance, a basis element on the last two spin variable would be written:\n",
    "\n",
    "      -->  Op = s1 s2           Spin variable\n",
    "      -->  Op = 000000011       Binary representation\n",
    "      -->  Op = 3               Integer representation   ( 000000011 = 3 )\n",
    "      \n",
    "However for general use and when the basis is unknown, instead the original basis can be used which is generated with the Original_Basis() function which only takes the amount of binary (spin) variables ($n$) in the data-set as input."
   ]
  },
  {
   "cell_type": "code",
   "execution_count": 19,
   "metadata": {},
   "outputs": [
    {
     "name": "stdout",
     "output_type": "stream",
     "text": [
      "[1] Choice of the basis for building the Minimally Complex Model (MCM): \n",
      " num [1:9] 1 2 4 8 16 32 64 128 256\n",
      "##\t 1 \t 1 \t 000000001\n",
      "##\t 2 \t 2 \t 000000010\n",
      "##\t 3 \t 4 \t 000000100\n",
      "##\t 4 \t 8 \t 000001000\n",
      "##\t 5 \t 16 \t 000010000\n",
      "##\t 6 \t 32 \t 000100000\n",
      "##\t 7 \t 64 \t 001000000\n",
      "##\t 8 \t 128 \t 010000000\n",
      "##\t 9 \t 256 \t 100000000\n",
      "##\n",
      "[1] Number of spin variables, n= 9\n",
      "[1] Number of basis elements, m= 9\n"
     ]
    }
   ],
   "source": [
    "print(\"Choice of the basis for building the Minimally Complex Model (MCM): \", quote = FALSE)\n",
    "\n",
    "#                                        3 Ways of defining a basis\n",
    "\n",
    "# 1.Read basis from a file:\n",
    "# Basis_li <- Read_BasisOp_BinaryRepresentation(\"INPUT/Dataset_Shapes_n9_Basis_Binary.dat\", n)\n",
    "# Basis_li <- Read_BasisOp_IntegerRepresentation(\"INPUT/Dataset_Shapes_n9_Basis_Integer.dat\")\n",
    "\n",
    "# 2. Define basis manually.\n",
    "# Basis_li <- c(3, 5, 9, 48, 65, 129, 272, 81, 1) # Ex. This is the best basis for the \"Shapes\" dataset\n",
    "\n",
    "\n",
    "# 3. Use the original basis of the data:\n",
    "Basis_li <- Original_Basis(n)\n",
    "str(Basis_li)\n",
    "\n",
    "# Print info about the Basis:\n",
    "PrintTerm_Basis(Basis_li, n);\n",
    "\n",
    "\n",
    "print(paste0(\"Number of spin variables, n= \", n), quote = FALSE)\n",
    "print(paste0(\"Number of basis elements, m= \", length(Basis_li)), quote = FALSE)"
   ]
  },
  {
   "cell_type": "markdown",
   "metadata": {},
   "source": [
    "#### Basis check"
   ]
  },
  {
   "cell_type": "code",
   "execution_count": 20,
   "metadata": {},
   "outputs": [
    {
     "name": "stdout",
     "output_type": "stream",
     "text": [
      "[1] \"Passed Basis check; everything seems fine.\"\n",
      "[1] \"Make sure that the set of basis elements provided are orthogonal to each other.\"\n"
     ]
    }
   ],
   "source": [
    "if (length(Basis_li) > n) {\n",
    "  print(\" -->  Error: the number 'm' of basis elements is larger than the size 'n' of the system.\")\n",
    "} else {\n",
    "  print(\"Passed Basis check; everything seems fine.\")\n",
    "  print(\"Make sure that the set of basis elements provided are orthogonal to each other.\")\n",
    "}"
   ]
  },
  {
   "cell_type": "markdown",
   "metadata": {},
   "source": [
    " <a id='kset'></a>\n",
    "### 2.4 Build Kset\n",
    "\n",
    "If a basis other than the original basis was chosen, Nset needs to be rewritten in the new basis and this is done with the function build_Kset(). If the last parameter of the function is set to TRUE, the function will print the original state in integer and binary representation and next to it the state transformed in the new basis.\n",
    "\n",
    "It transforms the data in the specified basis.  If the size $m$ (amount of basis elements) of the basis is smaller than the number $n$ of variables, then the data will be troncated to the $m$ first basis elements. \n",
    "\n",
    "In case that the original basis, as is done for this analysis on the US Supreme Court data-set, is used Kset will be equal to Nset. "
   ]
  },
  {
   "cell_type": "code",
   "execution_count": 21,
   "metadata": {},
   "outputs": [
    {
     "name": "stdout",
     "output_type": "stream",
     "text": [
      "\n",
      "--->> Build Kset...\n",
      "383: \t101111111 \t383: \t101111111\n",
      "511: \t111111111 \t511: \t111111111\n",
      "0: \t000000000 \t0: \t000000000\n",
      "356: \t101100100 \t356: \t101100100\n",
      "36: \t000100100 \t36: \t000100100\n",
      "325: \t101000101 \t325: \t101000101\n",
      "375: \t101110111 \t375: \t101110111\n",
      "308: \t100110100 \t308: \t100110100\n",
      "64: \t001000000 \t64: \t001000000\n",
      "292: \t100100100 \t292: \t100100100\n",
      "472: \t111011000 \t472: \t111011000\n",
      "381: \t101111101 \t381: \t101111101\n",
      "4: \t000000100 \t4: \t000000100\n",
      "403: \t110010011 \t403: \t110010011\n",
      "65: \t001000001 \t65: \t001000001\n",
      "288: \t100100000 \t288: \t100100000\n",
      "438: \t110110110 \t438: \t110110110\n",
      "235: \t011101011 \t235: \t011101011\n",
      "372: \t101110100 \t372: \t101110100\n",
      "328: \t101001000 \t328: \t101001000\n",
      "52: \t000110100 \t52: \t000110100\n",
      "382: \t101111110 \t382: \t101111110\n",
      "260: \t100000100 \t260: \t100000100\n",
      "76: \t001001100 \t76: \t001001100\n",
      "300: \t100101100 \t300: \t100101100\n",
      "310: \t100110110 \t310: \t100110110\n",
      "357: \t101100101 \t357: \t101100101\n",
      "311: \t100110111 \t311: \t100110111\n",
      "478: \t111011110 \t478: \t111011110\n",
      "132: \t010000100 \t132: \t010000100\n",
      "129: \t010000001 \t129: \t010000001\n",
      "373: \t101110101 \t373: \t101110101\n",
      "358: \t101100110 \t358: \t101100110\n",
      "100: \t001100100 \t100: \t001100100\n",
      "367: \t101101111 \t367: \t101101111\n",
      "217: \t011011001 \t217: \t011011001\n",
      "324: \t101000100 \t324: \t101000100\n",
      "32: \t000100000 \t32: \t000100000\n",
      "139: \t010001011 \t139: \t010001011\n",
      "446: \t110111110 \t446: \t110111110\n",
      "493: \t111101101 \t493: \t111101101\n",
      "258: \t100000010 \t258: \t100000010\n",
      "128: \t010000000 \t128: \t010000000\n",
      "409: \t110011001 \t409: \t110011001\n",
      "256: \t100000000 \t256: \t100000000\n",
      "316: \t100111100 \t316: \t100111100\n",
      "380: \t101111100 \t380: \t101111100\n",
      "294: \t100100110 \t294: \t100100110\n",
      "323: \t101000011 \t323: \t101000011\n",
      "254: \t011111110 \t254: \t011111110\n",
      "211: \t011010011 \t211: \t011010011\n",
      "116: \t001110100 \t116: \t001110100\n",
      "502: \t111110110 \t502: \t111110110\n",
      "130: \t010000010 \t130: \t010000010\n",
      "231: \t011100111 \t231: \t011100111\n",
      "237: \t011101101 \t237: \t011101101\n",
      "411: \t110011011 \t411: \t110011011\n",
      "16: \t000010000 \t16: \t000010000\n",
      "341: \t101010101 \t341: \t101010101\n",
      "500: \t111110100 \t500: \t111110100\n",
      "133: \t010000101 \t133: \t010000101\n",
      "213: \t011010101 \t213: \t011010101\n",
      "221: \t011011101 \t221: \t011011101\n",
      "467: \t111010011 \t467: \t111010011\n",
      "368: \t101110000 \t368: \t101110000\n",
      "503: \t111110111 \t503: \t111110111\n",
      "508: \t111111100 \t508: \t111111100\n",
      "321: \t101000001 \t321: \t101000001\n",
      "475: \t111011011 \t475: \t111011011\n",
      "20: \t000010100 \t20: \t000010100\n",
      "337: \t101010001 \t337: \t101010001\n",
      "160: \t010100000 \t160: \t010100000\n",
      "364: \t101101100 \t364: \t101101100\n",
      "82: \t001010010 \t82: \t001010010\n",
      "469: \t111010101 \t469: \t111010101\n",
      "487: \t111100111 \t487: \t111100111\n",
      "331: \t101001011 \t331: \t101001011\n",
      "501: \t111110101 \t501: \t111110101\n",
      "33: \t000100001 \t33: \t000100001\n",
      "338: \t101010010 \t338: \t101010010\n",
      "479: \t111011111 \t479: \t111011111\n",
      "353: \t101100001 \t353: \t101100001\n",
      "142: \t010001110 \t142: \t010001110\n",
      "176: \t010110000 \t176: \t010110000\n",
      "305: \t100110001 \t305: \t100110001\n",
      "510: \t111111110 \t510: \t111111110\n",
      "111: \t001101111 \t111: \t001101111\n",
      "509: \t111111101 \t509: \t111111101\n",
      "346: \t101011010 \t346: \t101011010\n",
      "464: \t111010000 \t464: \t111010000\n",
      "436: \t110110100 \t436: \t110110100\n",
      "67: \t001000011 \t67: \t001000011\n",
      "439: \t110110111 \t439: \t110110111\n",
      "318: \t100111110 \t318: \t100111110\n",
      "287: \t100011111 \t287: \t100011111\n",
      "374: \t101110110 \t374: \t101110110\n",
      "459: \t111001011 \t459: \t111001011\n",
      "75: \t001001011 \t75: \t001001011\n",
      "352: \t101100000 \t352: \t101100000\n",
      "164: \t010100100 \t164: \t010100100\n",
      "387: \t110000011 \t387: \t110000011\n",
      "44: \t000101100 \t44: \t000101100\n",
      "203: \t011001011 \t203: \t011001011\n",
      "415: \t110011111 \t415: \t110011111\n",
      "369: \t101110001 \t369: \t101110001\n",
      "320: \t101000000 \t320: \t101000000\n",
      "309: \t100110101 \t309: \t100110101\n",
      "1: \t000000001 \t1: \t000000001\n",
      "68: \t001000100 \t68: \t001000100\n",
      "379: \t101111011 \t379: \t101111011\n",
      "473: \t111011001 \t473: \t111011001\n",
      "180: \t010110100 \t180: \t010110100\n",
      "336: \t101010000 \t336: \t101010000\n",
      "365: \t101101101 \t365: \t101101101\n",
      "276: \t100010100 \t276: \t100010100\n",
      "291: \t100100011 \t291: \t100100011\n",
      "166: \t010100110 \t166: \t010100110\n",
      "171: \t010101011 \t171: \t010101011\n",
      "430: \t110101110 \t430: \t110101110\n",
      "471: \t111010111 \t471: \t111010111\n",
      "359: \t101100111 \t359: \t101100111\n",
      "172: \t010101100 \t172: \t010101100\n",
      "275: \t100010011 \t275: \t100010011\n",
      "333: \t101001101 \t333: \t101001101\n",
      "468: \t111010100 \t468: \t111010100\n",
      "452: \t111000100 \t452: \t111000100\n",
      "175: \t010101111 \t175: \t010101111\n",
      "195: \t011000011 \t195: \t011000011\n",
      "\n",
      "[1] Kset contains:\n",
      "List of 2\n",
      " $ : int [1:128] 383 511 0 356 36 325 375 308 64 292 ...\n",
      " $ : int [1:128] 61 221 174 17 29 1 7 31 1 29 ...\n"
     ]
    }
   ],
   "source": [
    "Kset <- build_Kset(Nset, Basis_li, n, TRUE)\n",
    "\n",
    "print(\"Kset contains:\", quote=FALSE)\n",
    "str(Kset)\n"
   ]
  },
  {
   "cell_type": "markdown",
   "metadata": {},
   "source": [
    " <a id='print'></a>\n",
    "### 2.5 (OPTIONAL) Analyzing all Independent and Sub-complete Models\n",
    "\n",
    "[Jump to skip to 2.6](#mcm_search)\n",
    "\n",
    "With the package it is also possible to print some information about all independent and sub-complete models of the data-set. These can give some indication of the bias of the (spin) variables."
   ]
  },
  {
   "cell_type": "markdown",
   "metadata": {},
   "source": [
    "#### Independent Models\n",
    "\n",
    "Independent models are defined as MCMs in which each variable is in its own independent community. The function PrintInfo_All_Indep_Models() prints the Log-Evidence and Log-Likelihood of all independent models.\n",
    "\n",
    "\n",
    "\n",
    "\n",
    "\n",
    "At first it starts with a model containing only 1 community consisting of only the first spin variable. Then it keeps adding one more spin variable to the model but defines all of them to be in their own separate community. "
   ]
  },
  {
   "cell_type": "code",
   "execution_count": 22,
   "metadata": {},
   "outputs": [
    {
     "name": "stdout",
     "output_type": "stream",
     "text": [
      "[1] \"Independent models in the new basis:\"\n",
      "Add Op = 1 \t LogE = -5582.49 \t LogL = -5578.87\n",
      "Add Op = 2 \t LogE = -5572.97 \t LogL = -5565.73\n",
      "Add Op = 4 \t LogE = -5482.52 \t LogL = -5471.65\n",
      "Add Op = 8 \t LogE = -5474.35 \t LogL = -5459.85\n",
      "Add Op = 16 \t LogE = -5454.75 \t LogL = -5436.63\n",
      "Add Op = 32 \t LogE = -5382.6 \t LogL = -5360.85\n",
      "Add Op = 64 \t LogE = -5366.11 \t LogL = -5340.74\n",
      "Add Op = 128 \t LogE = -5319.51 \t LogL = -5290.52\n",
      "Add Op = 256 \t LogE = -5258.1 \t LogL = -5225.48\n"
     ]
    }
   ],
   "source": [
    "print(\"Independent models in the new basis:\")\n",
    "PrintInfo_All_Indep_Models(Kset, N, n)"
   ]
  },
  {
   "cell_type": "markdown",
   "metadata": {},
   "source": [
    "#### Sub-complete Models\n",
    "Sub-complete models are defined as MCMs in which each variable is together in one community. The function PrintInfo_All_SubComplete_Models() prints the Log-Evidence and Log-Likelihood of all sub-complete models.\n",
    "\n",
    "\n",
    "At first it starts with a model containing only 1 community consisting of only the first spin variable. Then it keeps adding one more spin variable to the model and puts them in the same community as all other variables. "
   ]
  },
  {
   "cell_type": "code",
   "execution_count": 23,
   "metadata": {},
   "outputs": [
    {
     "name": "stdout",
     "output_type": "stream",
     "text": [
      "Add Op = 1 \t LogE = -5582.49 \t LogL = -5578.87\n",
      "Add Op = 2 \t LogE = -5292.12 \t LogL = -5282.39\n",
      "Add Op = 4 \t LogE = -5134.16 \t LogL = -5114\n",
      "Add Op = 8 \t LogE = -4763.22 \t LogL = -4725.26\n",
      "Add Op = 16 \t LogE = -4479.97 \t LogL = -4410.4\n",
      "Add Op = 32 \t LogE = -4102.76 \t LogL = -3971.96\n",
      "Add Op = 64 \t LogE = -3824.99 \t LogL = -3585.3\n",
      "Add Op = 128 \t LogE = -3654.89 \t LogL = -3216.58\n",
      "Add Op = 256 \t LogE = -3525.33 \t LogL = -2736.96\n"
     ]
    }
   ],
   "source": [
    "PrintInfo_All_SubComplete_Models(Kset, N, n)"
   ]
  },
  {
   "cell_type": "code",
   "execution_count": 24,
   "metadata": {},
   "outputs": [
    {
     "data": {
      "image/png": "[encoded data removed]",
      "text/plain": [
       "Plot with title “Growth of LogE and LogL of independent models \n",
       " with every added operator to the basis”"
      ]
     },
     "metadata": {
      "image/png": {
       "height": 420,
       "width": 420
      }
     },
     "output_type": "display_data"
    },
    {
     "data": {
      "image/png": "[encoded data removed]",
      "text/plain": [
       "Plot with title “Growth of LogE and LogL of sub-complete models \n",
       " with every added operator to the basis”"
      ]
     },
     "metadata": {
      "image/png": {
       "height": 420,
       "width": 420
      }
     },
     "output_type": "display_data"
    }
   ],
   "source": [
    "# ################################################################################################# #\n",
    "# THIS CELL IS NOT PART OF THE PACKAGE BUT MERELY TO VISUALIZE THE DATA FOR A BETTER UNDERSTANDING. #\n",
    "# ################################################################################################# #\n",
    "\n",
    "\n",
    "# ##################################### PLOT FOR INDEPENDENT MODELS\n",
    "results <- capture.output(PrintInfo_All_Indep_Models(Kset, N, n))\n",
    "\n",
    "# results\n",
    "Ops <- c()\n",
    "LogLs <- c()\n",
    "LogEs <- c()\n",
    "\n",
    "for (res in results) {\n",
    "    sections <- strsplit(res, split = \"[[:alpha:], [:blank:]]+=\", perl=TRUE)\n",
    "    Ops[length(Ops) + 1] <- as.integer(sections[[1]][2])\n",
    "    LogEs[length(LogEs) + 1] <- as.numeric(sections[[1]][3])\n",
    "    LogLs[length(LogLs) + 1] <- as.numeric(sections[[1]][4])\n",
    "}\n",
    "\n",
    "x <- 1:n\n",
    "\n",
    "# png(file = \"A_results.png\",   # The directory you want to save the file in\n",
    "#     width = 400, # The width of the plot in inches\n",
    "#     height = 350) # The height of the plot in inches\n",
    "plot(x, LogEs,\n",
    "ylab=\"Value\",\n",
    "xlab=\"Added operator (in integer representation)\",\n",
    "xaxt = \"n\",\n",
    "type=\"b\",\n",
    "col=\"purple\",\n",
    "ylim=range(LogEs, LogLs))\n",
    "# Second line\n",
    "lines(x, LogLs, type=\"b\", col=\"orange\")\n",
    "# X-axis\n",
    "axis(1, at = x, labels=Ops)\n",
    "# Rest\n",
    "title(\"Growth of LogE and LogL of independent models \\n with every added operator to the basis\")\n",
    "legend(\"topleft\", c(\"LogE\",\"LogL\"), fill=c(\"purple\",\"orange\"))\n",
    "# dev.off()\n",
    "\n",
    "\n",
    "# ####################################### PLOT FOR SUB-COMPLETE MODELS\n",
    "results <- capture.output(PrintInfo_All_SubComplete_Models(Kset, N, n))\n",
    "\n",
    "# results\n",
    "Ops <- c()\n",
    "LogLs <- c()\n",
    "LogEs <- c()\n",
    "\n",
    "for (res in results) {\n",
    "    sections <- strsplit(res, split = \"[[:alpha:], [:blank:]]+=\", perl=TRUE)\n",
    "    Ops[length(Ops) + 1] <- as.integer(sections[[1]][2])\n",
    "    LogEs[length(LogEs) + 1] <- as.numeric(sections[[1]][3])\n",
    "    LogLs[length(LogLs) + 1] <- as.numeric(sections[[1]][4])\n",
    "}\n",
    "\n",
    "# png(file = \"B_results.png\",   # The directory you want to save the file in\n",
    "#     width = 400, # The width of the plot in inches\n",
    "#     height = 350) # The height of the plot in inches\n",
    "\n",
    "x <- 1:n\n",
    "plot(x, LogEs,\n",
    "ylab=\"Value\",\n",
    "xlab=\"Added operator (in integer representation)\",\n",
    "xaxt = \"n\",\n",
    "type=\"b\",\n",
    "col=\"purple\",\n",
    "ylim=range(LogEs, LogLs))\n",
    "# Second line\n",
    "lines(x, LogLs, type=\"b\", col=\"orange\")\n",
    "# X-axis\n",
    "axis(1, at = x, labels=Ops)\n",
    "# Rest\n",
    "title(\"Growth of LogE and LogL of sub-complete models \\n with every added operator to the basis\")\n",
    "legend(\"topleft\", c(\"LogE\",\"LogL\"), fill=c(\"purple\",\"orange\"))\n",
    "# dev.off()"
   ]
  },
  {
   "cell_type": "markdown",
   "metadata": {},
   "source": [
    "#### Independent Models versus Sub-complete models\n",
    "\n",
    "As shown in the plots above, SubCMs in which the variables are all part of the same community have a higher Log-evidence and Log-likelihood than Independent models indicating that the variables are not completely independent from each other and some correlation exists.\n",
    "\n",
    "Therefore it is interesting to search for the best MCM of the data-set and what community structures it describes. More about this in the next section."
   ]
  },
  {
   "cell_type": "markdown",
   "metadata": {},
   "source": [
    " <a id='mcm_search'></a>\n",
    "### 2.6 Finding the best MCM\n",
    "\n",
    "There are two ways the exhaustive search for the best MCM can be performed. The first is described in section 2.6.1 and requires cells in section 2.1 to 2.4 to be ran beforehand. The second is described in section 2.6.2 which can be ran independently from the previous sections.\n",
    "\n",
    "\n",
    "\n",
    "<a id='mcm_search_dependent'></a>\n",
    "#### 2.6.1 Find best MCM\n",
    " <div class=\"alert alert-block alert-info\">\n",
    "    <b>Note:</b> Before running the cell below make sure to run the cells in section 2.1 to 2.4 beforehand.\n",
    "    </div>\n",
    "    \n",
    "Finally, to find communities in the data-set the function MCM_GivenRank_r() is used. This function performs the exhaustive search for the best MCM for the data-set and returns it as a list containing the integer representation of the MCM partitions.\n",
    "\n",
    "MCM_GivenRank_r() takes the following input parameters:\n",
    "\n",
    "| Input variable | Description |\n",
    "| :- | :---------------------: | \n",
    "| $N$ | The total amount of data-points in the data-set (size of entire data-set) | \n",
    "| LogE_BestMCM1 | An empty variable that will contain the Log-Evidence of the best MCM after running the function |\n",
    "| $r$ | The rank. It is the amount of basis operators to restrict the search to  |\n",
    "| $n$ | The amount of binary (spin) variables  | \n",
    "| output_dir | The location and name of output directory. | \n",
    "|print | A boolean value indicating to also generate a file containing the Log-evidence of all the MCM of rank r=9| \n",
    "\n",
    "The search among all MCMs is based on the $r$ first basis operators (i.e., the models of rank exactly equal to '$r$'). By defining an $r$ that is smaller than $n$ it excludes spin variables $r + 1$ to $n$ from the MCM search meaning that those variables will not be part of any community. \n",
    "\n",
    "Conditions on the value of $r: r <= m <= n$.\n",
    "\n",
    "    'r' must be smaller or equal to the number 'm' of basis element provided, 'm = length(Basis_li)' which must be smaller or equal to the number n of spin variables.\n",
    "\n",
    "For this analysis all (spin) variables (i.e. the judges) are considered relevant and should be included in the search for community structures. Therefore $r = n$.\n",
    "\n",
    "In the cell below first the rank is set and the if statement checks if the condition on the value $r$ is respected.\n",
    "Hereafter MCM_GivenRank_r() is called to find the best MCM and PrintTerminal_MCM_Info is called to print information regarding the best MCM.\n",
    "\n",
    "\n"
   ]
  },
  {
   "cell_type": "code",
   "execution_count": 25,
   "metadata": {
    "scrolled": false
   },
   "outputs": [
    {
     "name": "stdout",
     "output_type": "stream",
     "text": [
      "--->> Search for the best MCM..\n",
      "\n",
      "--> Print the LogE-value of all the MCM of rank r=9 in the file 'OUTPUT_9var_USSCourt/AllMCMs_Rank_r=9.dat'\n",
      "\n",
      "--> Number of MCModels (of rank r=9) that were compared: 21147\n",
      "\n",
      "********** Best MCM: **********\n",
      "\t !! The first operator of the basis provided corresponds to the bit the most on the right !!\n",
      "\t !! The last operator corresponds to the bit the most on the left !!\n",
      "\n",
      "\t >> Best Model = 010001011\t \t LogE = -3300.97\n",
      "\n",
      "********** General Information about the MCM: **********\n",
      "Best MCM has 2 partitions and the following properties:\n",
      "\t LogL = -3194.36\n",
      " \t C_param = 114.056 \t \t C_geom = -8.95092\n",
      " \t Total complexity = 105.105\n",
      " \t MDL = -3299.46\n",
      "  \t LogE = -3300.97\n",
      "\n",
      "********** Information about each part of the MCM: **********\n",
      "\t (the total LogE of the model is the sum of the values for each part)\n",
      "\t !! The first operator of the basis provided corresponds to the bit the most on the right !!\n",
      "\t !! The last operator corresponds to the bit the most on the left !!\n",
      "\n",
      "## 1:Part_int \t 2:Part_binary \t 3:LogL \t 4:C_param \t 5:C_geom \t 6:C_tot \t 7:LogE\n",
      " \t 139 \t 010001011 \t-1508.08 \t37.1921 \t 0.632678 \t37.8248 \t-1545.98\n",
      " \t 372 \t 101110100 \t-1686.28 \t76.8637 \t -9.58359 \t67.2801 \t-1754.98\n",
      "\n"
     ]
    }
   ],
   "source": [
    "r <- n \n",
    "LogE_BestMCM1 <- 0 # Variable which will contain the Log-Evidence of the returned MCM.\n",
    "\n",
    "if (r <= length(Basis_li)) {\n",
    "  MCM_partition1 <- MCM_GivenRank_r(Kset, N, LogE_BestMCM1, r, n, output_dir, TRUE) #The community detection\n",
    "    \n",
    "  PrintTerminal_MCM_Info(Kset, N, n, MCM_partition1)\n",
    "    \n",
    "} else {\n",
    "  print(\"The condition on the value of 'r' is not respected\")\n",
    "}"
   ]
  },
  {
   "cell_type": "code",
   "execution_count": 26,
   "metadata": {},
   "outputs": [
    {
     "data": {
      "text/html": [
       "-3300.96783461657"
      ],
      "text/latex": [
       "-3300.96783461657"
      ],
      "text/markdown": [
       "-3300.96783461657"
      ],
      "text/plain": [
       "[1] -3300.968"
      ]
     },
     "metadata": {},
     "output_type": "display_data"
    }
   ],
   "source": [
    "LogE_BestMCM1"
   ]
  },
  {
   "cell_type": "markdown",
   "metadata": {},
   "source": [
    "#### Results explanation\n",
    "\n",
    "The exhaustive search for the best MCM on the US Supreme Court data-set resulted in an MCM that contains two paritions of 4 and 5 variables respectively. \n",
    "\n",
    "The partitions describe the following community structures:\n",
    "\n",
    "| Partition (Integer representation)  | WR | JS | SO | AS | AK | DS | CT | RG | SB |\n",
    "| :- | :-: | :-: | :-: | :-: | :-: | :-: | :-: | :-: | :-: |\n",
    "| 139 | 0 | 1 | 0 | 0 | 0 | 1 | 0 | 1 | 1 |\n",
    "| 372 | 1 | 0 | 1 | 1 | 1 | 0 | 1 | 0 | 0 |\n",
    "\n",
    "Partition 139 (= '010001011') defines a community of the judges JS, DS, RG and SB. \n",
    "\n",
    "Partition 372 (= '101110100') is a communtiy of the judges WR, SO, AS, AK, and CT. \n",
    "\n",
    "And these communities actually align with the judges political orientation as was described in the paper called Statistical Inference of Minimally Complex Models (2021) by Clélia de Mulatier, Paolo P. Mazza, and Matteo Marsili !"
   ]
  },
  {
   "cell_type": "markdown",
   "metadata": {},
   "source": [
    " <a id='mcm_search_aao'></a>\n",
    "#### 2.6.2 Find best MCM (all previous steps combined)\n",
    "\n",
    "It is also possible to do the community detection at once with the function MCM_search(). This function does the same as section 2.2 - 2.6.1. This function assumes that $r$ = $n$ and therefore the basis must contain $m$ = $n$ variables to uphold the previously stated condition on the rank $r$. \n",
    "\n",
    "MCM_search() takes as input parameters:\n",
    "\n",
    "| Input variable | Description |\n",
    "| :- | :---------------------: | \n",
    "| $n$ | The amount of binary (spin) variables  | \n",
    "| datafile_name | The path to and name of the input data-file  |\n",
    "| basis | The basis on which to build the MCM on  |\n",
    "| output_dir | The path to and name of the output directory which will be created to store the results in |\n",
    "| Additional search | Boolean indicating whether to perform additional MCM searches (2 versions) that include MCM's containing less than $n$ variables. For more information consult the package manual. Setting this to TRUE will significantly increase the program's execution time |\n",
    "\n",
    "By default all additional prints are turned off. "
   ]
  },
  {
   "cell_type": "code",
   "execution_count": 27,
   "metadata": {},
   "outputs": [
    {
     "name": "stdout",
     "output_type": "stream",
     "text": [
      "--->> Create OUTPUT Folder: (if needed) \n",
      "\n",
      "*******************************************************************************************\n",
      "***********************************  Read the data:  **************************************\n",
      "*******************************************************************************************\n",
      "\n",
      "--->> Read \"data/US_SupremeCourt/SCOTUS_n9_N895_OldBasis.dat\",\t Build Nset...\t\t data size N = 895\n",
      "\n",
      "*******************************************************************************************\n",
      "******************************  Choice of the basis:  *************************************\n",
      "*******************************************************************************************\n",
      "\n",
      "Choice of the basis for building the Minimally Complex Model (MCM):\n",
      "##\t 1 \t 1 \t 000000001\n",
      "##\t 2 \t 2 \t 000000010\n",
      "##\t 3 \t 4 \t 000000100\n",
      "##\t 4 \t 8 \t 000001000\n",
      "##\t 5 \t 16 \t 000010000\n",
      "##\t 6 \t 32 \t 000100000\n",
      "##\t 7 \t 64 \t 001000000\n",
      "##\t 8 \t 128 \t 010000000\n",
      "##\t 9 \t 256 \t 100000000\n",
      "##\n",
      "Number of spin variables, n=9\n",
      "Number of basis elements, m=9\n",
      " -->  m <= n :  Everything seems fine.\n",
      "Make sure that the set of basis elements provided are orthogonal to each other.\n",
      "\n",
      "*******************************************************************************************\n",
      "*********************************  Change the data basis   ********************************\n",
      "**************************************  Build Kset:  **************************************\n",
      "*******************************************************************************************\n",
      "\n",
      "Transform the data in the specified basis.\n",
      "\n",
      "/!\\ If m<n:\n",
      "\t If the size 'm' of the basis is strictly smaller than the number 'n' of variables, \n",
      "\t then the data will be troncated to the 'm' first basis elements.\n",
      "\n",
      "--->> Build Kset...\n",
      "\n",
      "\n",
      "*******************************************************************************************\n",
      "************************************  All Indep Models:  **********************************\n",
      "*******************************************************************************************\n",
      "\n",
      "Independent models in the new basis:\n",
      "Add Op = 1 \t LogE = -5582.49 \t LogL = -5578.87\n",
      "Add Op = 2 \t LogE = -5572.97 \t LogL = -5565.73\n",
      "Add Op = 4 \t LogE = -5482.52 \t LogL = -5471.65\n",
      "Add Op = 8 \t LogE = -5474.35 \t LogL = -5459.85\n",
      "Add Op = 16 \t LogE = -5454.75 \t LogL = -5436.63\n",
      "Add Op = 32 \t LogE = -5382.6 \t LogL = -5360.85\n",
      "Add Op = 64 \t LogE = -5366.11 \t LogL = -5340.74\n",
      "Add Op = 128 \t LogE = -5319.51 \t LogL = -5290.52\n",
      "Add Op = 256 \t LogE = -5258.1 \t LogL = -5225.48\n",
      "\n",
      "*******************************************************************************************\n",
      "**************************  All Successive Sub-Complete Models:  **************************\n",
      "*******************************************************************************************\n",
      "\n",
      "Sub-Complete models in the new basis:\n",
      "Add Op = 1 \t LogE = -5582.49 \t LogL = -5578.87\n",
      "Add Op = 2 \t LogE = -5292.12 \t LogL = -5282.39\n",
      "Add Op = 4 \t LogE = -5134.16 \t LogL = -5114\n",
      "Add Op = 8 \t LogE = -4763.22 \t LogL = -4725.26\n",
      "Add Op = 16 \t LogE = -4479.97 \t LogL = -4410.4\n",
      "Add Op = 32 \t LogE = -4102.76 \t LogL = -3971.96\n",
      "Add Op = 64 \t LogE = -3824.99 \t LogL = -3585.3\n",
      "Add Op = 128 \t LogE = -3654.89 \t LogL = -3216.58\n",
      "Add Op = 256 \t LogE = -3525.33 \t LogL = -2736.96\n",
      "\n",
      "*******************************************************************************************\n",
      "***********************************  VERSION 1  *******************************************\n",
      "*******************************************************************************************\n",
      "**********************  Compare all MCMs of a given rank 'r' ******************************\n",
      "*********************  based on the 'r' first basis Operators:  ***************************\n",
      "*******************************************************************************************\n",
      "\n",
      "\n",
      "Search among all MCMs based on the 'r' first basis operators (i.e., the models of rank exactly equal to 'r')\n",
      "\n",
      "/!\\ Conditions on the value of 'r':  r <= m <= n \n",
      "\t 'r' must be smaller or equal to the number 'm' of basis element provided, 'm=Basis_li.size()',\n",
      "\t which must be smaller or equal to the number 'n' of spin variables.\n",
      "\n",
      "--->> Search for the best MCM..\n",
      "\n",
      "--> Number of MCModels (of rank r=9) that were compared: 21147\n",
      "\n",
      "********** Best MCM: **********\n",
      "\t !! The first operator of the basis provided corresponds to the bit the most on the right !!\n",
      "\t !! The last operator corresponds to the bit the most on the left !!\n",
      "\n",
      "\t >> Best Model = 010001011\t \t LogE = -3300.97\n",
      "\n",
      "********** General Information about the MCM: **********\n",
      "Best MCM has 2 partitions and the following properties:\n",
      "\t LogL = -3194.36\n",
      " \t C_param = 114.056 \t \t C_geom = -8.95092\n",
      " \t Total complexity = 105.105\n",
      " \t MDL = -3299.46\n",
      "  \t LogE = -3300.97\n",
      "\n",
      "********** Information about each part of the MCM: **********\n",
      "\t (the total LogE of the model is the sum of the values for each part)\n",
      "\t !! The first operator of the basis provided corresponds to the bit the most on the right !!\n",
      "\t !! The last operator corresponds to the bit the most on the left !!\n",
      "\n",
      "## 1:Part_int \t 2:Part_binary \t 3:LogL \t 4:C_param \t 5:C_geom \t 6:C_tot \t 7:LogE\n",
      " \t 372 \t 101110100 \t-1686.28 \t76.8637 \t -9.58359 \t67.2801 \t-1754.98\n",
      " \t 139 \t 010001011 \t-1508.08 \t37.1921 \t 0.632678 \t37.8248 \t-1545.98\n",
      "\n"
     ]
    },
    {
     "data": {
      "text/html": [
       "0"
      ],
      "text/latex": [
       "0"
      ],
      "text/markdown": [
       "0"
      ],
      "text/plain": [
       "[1] 0"
      ]
     },
     "metadata": {},
     "output_type": "display_data"
    }
   ],
   "source": [
    "n <- 9 # Amount of binary spin variables per data-point\n",
    "datafile_name <- 'data/US_SupremeCourt/SCOTUS_n9_N895_OldBasis.dat'\n",
    "basis <- Original_Basis(n)\n",
    "output_dir <- 'OUTPUT_9var_USSCourt'\n",
    "\n",
    "MCM_search(n, datafile_name, basis, output_dir, FALSE)"
   ]
  },
  {
   "cell_type": "markdown",
   "metadata": {},
   "source": [
    "[Jump to the start](#start)\n",
    "\n"
   ]
  },
  {
   "cell_type": "markdown",
   "metadata": {},
   "source": [
    "<a id='sa_start'></a>\n",
    "## 3. Analyis of the Big5 Personality test\n",
    " \n",
    "The data-set that will be used in this analysis is that of the Big5 personality test. The Big5 personality test is a test containing 50 questions that investigates the personality of individuals based on 5 traits:\n",
    "1. Extraversion\n",
    "2. Neuroticism\n",
    "3. Agreeableness\n",
    "4. Conscientiousness\n",
    "5. Openness to experience\n",
    "\n",
    "\n",
    "The data-set contains 1012558 data-points which are samples taken from https://openpsychometrics.org/_rawdata/IPIP-FFM-data-8Nov2018.zip. \n",
    "\n",
    "This data-set was already analyzed in the original paper of this program but there it was done using the greedy search based implementation of the algorithm. Inference on the class of MCMs revealed whether the data confirms the hypothesis that these questions probe the respondent’s personality along five dimensions and how these dimensions are associated with the questions of the test. That analysis showed community structures with the 50 questions that subdivided them into 5 communities containing 10 questions which aligned with the 5 traits.\n",
    "\n",
    "\n",
    "The aim is to revisit this analysis.\n",
    "\n",
    "#### More about the Big5 Personality test data-set\n",
    "The Big5 dataset consists of 50 binary (spin) variables per data-point ($N$ = 1013558). It was therefore first cut down to a set containing 12 variables. Of these 12 variables there were 6 questions per trait added. The analyzed traits are Agreeableness and Conscientioussness. \n",
    "\n",
    "\n",
    "\n",
    "<a id='sa_set'></a>\n",
    "### 3.1 Analysis results on a subset of the Big5 data-set\n",
    "\n",
    "When running the community detection on the following questions:\n",
    "\n",
    "AGREEABLENESS 2\n",
    "- AGR1\tI feel little concern for others.\n",
    "- AGR2\tI am interested in people.\n",
    "- AGR4\tI sympathize with others' feelings.\n",
    "- AGR5\tI am not interested in other people's problems.\n",
    "- AGR6\tI have a soft heart.\n",
    "- AGR7\tI am not really interested in others.\n",
    "\n",
    "CONSCIENTIOUSNESS 3\n",
    "- CSN2\tI leave my belongings around.\n",
    "- CSN5\tI get chores done right away.\n",
    "- CSN6\tI often forget to put things back in their proper place.\n",
    "- CSN7\tI like order.\n",
    "- CSN8\tI shirk my duties.\n",
    "- CSN9\tI follow a schedule.\n",
    "\n",
    "\n",
    "This result was obtained:\n",
    "\n",
    "| Partition | LogE |\n",
    "| :----- | :--: | \n",
    "| 000000000000 | -5.78313e+06 |\n",
    "\n",
    "This means that it failed to distinguish that the questions belonged to two different traits. "
   ]
  },
  {
   "cell_type": "code",
   "execution_count": 28,
   "metadata": {},
   "outputs": [],
   "source": [
    "datafile_name <- 'data/Big5/slice/big5_12vars_21_22_24_25_26_27_32_35_36_37_38_39.dat'\n",
    "n <- 12\n",
    "Basis_li <- Original_Basis(n)\n",
    "OUTPUT_dir <- paste0(\"OUTPUT_\", datafile_name)\n",
    "\n",
    "# It takes about an hour to run so the function call is commented.\n",
    "# MCM_search(n, datafile_name, Basis_li, OUTPUT_dir, FALSE)"
   ]
  },
  {
   "cell_type": "markdown",
   "metadata": {},
   "source": [
    "<a id='inspect_loge'></a>\n",
    "### 3.2 Inspecting Log-evidence \n",
    "\n",
    "Given the previous results, it is interesting to analyze the change in log-evidence and see how many questions per trait are needed in order for the model separating the communities to be better than the one in which they are all together in one community.\n",
    "\n",
    "To do so, the difference in log-evidence between the two MCMs is calculated. The difference in log-evidence is calculated by subtracting the log-evidence of the MCM in which every variable belongs to one community from the log-evidence of the MCM in which the variables belong in their own communities corresponding to their trait. \n",
    "\n",
    "This difference is negative if the the MCM with one community is better than the MCM with separate communities. Once the MCM with separate communities is better, this difference becomes positive. \n"
   ]
  },
  {
   "cell_type": "code",
   "execution_count": 29,
   "metadata": {},
   "outputs": [],
   "source": [
    "# Given an MCM corresponding to the given input data-file, the LogE is calculated and returned.\n",
    "create_MCM_get_LogE <- function(df_name, n, MCM_Choice) {\n",
    "    basis <- Original_Basis(n)\n",
    "    MCM_Partition0 <- Create_MCM(MCM_Choice)\n",
    "\n",
    "    N <- 0L\n",
    "    Nset <- read_datafile(N, n, df_name)\n",
    "\n",
    "    Kset <- build_Kset(Nset, basis, n, FALSE)\n",
    "    if(check_partition(MCM_Partition0, n))\n",
    "    {\n",
    "        return (LogE_MCM(Kset, MCM_Partition0, N, n, FALSE))\n",
    "    } else {\n",
    "        print(\"The set of 'parts' provided does not form a partition of the basis elements.\")\n",
    "        return(NULL)\n",
    "    }\n",
    "}\n",
    "\n",
    "# MCM_SC_comparison_setup, SC=SplitCommunities. \n",
    "# Returns list containing the vector of the LogE of an MCM in which every variable is in one community\n",
    "# and the vector containing the LogE of an MCM in which they are in equally sized separate communities!\n",
    "MCM_SC_comparison_setup <- function(MCMs, d, parts, t_n, traits) {\n",
    "    OC <- MCMs[[1]]\n",
    "    SC <- MCMs[[2]]\n",
    "    \n",
    "    # Everything in 1 community   \n",
    "    MCM_Choice <- c()\n",
    "    c_part <- strtoi(parts[[traits+1]], base = 2)\n",
    "    MCM_Choice <- c(MCM_Choice, c_part)\n",
    "    OC[length(OC) + 1] <- create_MCM_get_LogE(d, t_n, MCM_Choice)\n",
    "    names(OC)[length(OC)] <- toString(length(OC) + 3)\n",
    "    \n",
    "    # Separate communities\n",
    "    MCM_Choice0 <- c() \n",
    "    for (i in 1:traits) {\n",
    "        c_part <- strtoi(parts[[i]], base = 2)\n",
    "        MCM_Choice0 <- c(MCM_Choice0, c_part)\n",
    "    }\n",
    "    SC[length(SC) + 1] <- create_MCM_get_LogE(d, t_n, MCM_Choice0)\n",
    "    names(SC)[length(SC)] <- toString(length(OC) + 3)\n",
    "    \n",
    "    \n",
    "    return (list(OC, SC))\n",
    "}"
   ]
  },
  {
   "cell_type": "markdown",
   "metadata": {},
   "source": [
    "#### LogE analysis of 2 traits \n",
    "\n",
    "The two traits making up a total of 20 variables with corresponding questions that were analyzed are:\n",
    "\n",
    "AGREEABLENESS 2\n",
    "- AGR1\tI feel little concern for others.\n",
    "- AGR2\tI am interested in people.\n",
    "- AGR3\tI insult people.\n",
    "- AGR4\tI sympathize with others' feelings.\n",
    "- AGR5\tI am not interested in other people's problems.\n",
    "- AGR6\tI have a soft heart.\n",
    "- AGR7\tI am not really interested in others.\n",
    "- AGR8\tI take time out for others.\n",
    "- AGR9\tI feel others' emotions.\n",
    "- AGR10\tI make people feel at ease.\n",
    "\n",
    "CONSCIENTIOUSNESS 3\n",
    "- CSN1\tI am always prepared.\n",
    "- CSN2\tI leave my belongings around.\n",
    "- CSN3\tI pay attention to details.\n",
    "- CSN4\tI make a mess of things.\n",
    "- CSN5\tI get chores done right away.\n",
    "- CSN6\tI often forget to put things back in their proper place.\n",
    "- CSN7\tI like order.\n",
    "- CSN8\tI shirk my duties.\n",
    "- CSN9\tI follow a schedule.\n",
    "- CSN10\tI am exacting in my work.\n"
   ]
  },
  {
   "cell_type": "code",
   "execution_count": 30,
   "metadata": {},
   "outputs": [
    {
     "name": "stdout",
     "output_type": "stream",
     "text": [
      "\n",
      "--->> Read \"data/Big5/slice/big5_8vars_24-27_35-38.dat\",\t Build Nset...\t\t data size N = 1013558\n",
      "\n",
      "--->> Build Kset...\n",
      "\n",
      "\n",
      "--->> Read \"data/Big5/slice/big5_8vars_24-27_35-38.dat\",\t Build Nset...\t\t data size N = 1013558\n",
      "\n",
      "--->> Build Kset...\n",
      "\n",
      "\n",
      "--->> Read \"data/Big5/slice/big5_10vars_22_24-27_32_35-38.dat\",\t Build Nset...\t\t data size N = 1013558\n",
      "\n",
      "--->> Build Kset...\n",
      "\n",
      "\n",
      "--->> Read \"data/Big5/slice/big5_10vars_22_24-27_32_35-38.dat\",\t Build Nset...\t\t data size N = 1013558\n",
      "\n",
      "--->> Build Kset...\n",
      "\n",
      "\n",
      "--->> Read \"data/Big5/slice/big5_12vars_21_22_24-27_32_35-39.dat\",\t Build Nset...\t\t data size N = 1013558\n",
      "\n",
      "--->> Build Kset...\n",
      "\n",
      "\n",
      "--->> Read \"data/Big5/slice/big5_12vars_21_22_24-27_32_35-39.dat\",\t Build Nset...\t\t data size N = 1013558\n",
      "\n",
      "--->> Build Kset...\n",
      "\n",
      "\n",
      "--->> Read \"data/Big5/slice/big5_14vars_21_22-27_32_34-39.dat\",\t Build Nset...\t\t data size N = 1013558\n",
      "\n",
      "--->> Build Kset...\n",
      "\n",
      "\n",
      "--->> Read \"data/Big5/slice/big5_14vars_21_22-27_32_34-39.dat\",\t Build Nset...\t\t data size N = 1013558\n",
      "\n",
      "--->> Build Kset...\n",
      "\n",
      "\n",
      "--->> Read \"data/Big5/slice/big5_16vars_21-28_32-39.dat\",\t Build Nset...\t\t data size N = 1013558\n",
      "\n",
      "--->> Build Kset...\n",
      "\n",
      "\n",
      "--->> Read \"data/Big5/slice/big5_16vars_21-28_32-39.dat\",\t Build Nset...\t\t data size N = 1013558\n",
      "\n",
      "--->> Build Kset...\n",
      "\n",
      "\n",
      "--->> Read \"data/Big5/slice/big5_18vars_21-29_31-39.dat\",\t Build Nset...\t\t data size N = 1013558\n",
      "\n",
      "--->> Build Kset...\n",
      "\n",
      "\n",
      "--->> Read \"data/Big5/slice/big5_18vars_21-29_31-39.dat\",\t Build Nset...\t\t data size N = 1013558\n",
      "\n",
      "--->> Build Kset...\n",
      "\n",
      "\n",
      "--->> Read \"data/Big5/slice/big5_20vars_20-29_30-39.dat\",\t Build Nset...\t\t data size N = 1013558\n",
      "\n",
      "--->> Build Kset...\n",
      "\n",
      "\n",
      "--->> Read \"data/Big5/slice/big5_20vars_20-29_30-39.dat\",\t Build Nset...\t\t data size N = 1013558\n",
      "\n",
      "--->> Build Kset...\n",
      "\n"
     ]
    },
    {
     "data": {
      "text/html": [
       "<style>\n",
       ".dl-inline {width: auto; margin:0; padding: 0}\n",
       ".dl-inline>dt, .dl-inline>dd {float: none; width: auto; display: inline-block}\n",
       ".dl-inline>dt::after {content: \":\\0020\"; padding-right: .5ex}\n",
       ".dl-inline>dt:not(:first-of-type) {padding-left: .5ex}\n",
       "</style><dl class=dl-inline><dt>4</dt><dd>-3904602.32705121</dd><dt>5</dt><dd>-4772764.54492013</dd><dt>6</dt><dd>-5783134.73188153</dd><dt>7</dt><dd>-6749355.98331024</dd><dt>8</dt><dd>-7466954.51338249</dd><dt>9</dt><dd>-8711944.97817137</dd><dt>10</dt><dd>-10776626.9269262</dd></dl>\n"
      ],
      "text/latex": [
       "\\begin{description*}\n",
       "\\item[4] -3904602.32705121\n",
       "\\item[5] -4772764.54492013\n",
       "\\item[6] -5783134.73188153\n",
       "\\item[7] -6749355.98331024\n",
       "\\item[8] -7466954.51338249\n",
       "\\item[9] -8711944.97817137\n",
       "\\item[10] -10776626.9269262\n",
       "\\end{description*}\n"
      ],
      "text/markdown": [
       "4\n",
       ":   -3904602.327051215\n",
       ":   -4772764.544920136\n",
       ":   -5783134.731881537\n",
       ":   -6749355.983310248\n",
       ":   -7466954.513382499\n",
       ":   -8711944.9781713710\n",
       ":   -10776626.9269262\n",
       "\n"
      ],
      "text/plain": [
       "        4         5         6         7         8         9        10 \n",
       " -3904602  -4772765  -5783135  -6749356  -7466955  -8711945 -10776627 "
      ]
     },
     "metadata": {},
     "output_type": "display_data"
    },
    {
     "data": {
      "text/html": [
       "<style>\n",
       ".dl-inline {width: auto; margin:0; padding: 0}\n",
       ".dl-inline>dt, .dl-inline>dd {float: none; width: auto; display: inline-block}\n",
       ".dl-inline>dt::after {content: \":\\0020\"; padding-right: .5ex}\n",
       ".dl-inline>dt:not(:first-of-type) {padding-left: .5ex}\n",
       "</style><dl class=dl-inline><dt>4</dt><dd>-3921023.58738492</dd><dt>5</dt><dd>-4793816.11311247</dd><dt>6</dt><dd>-5813509.93044203</dd><dt>7</dt><dd>-6782063.19161439</dd><dt>8</dt><dd>-7428734.45647028</dd><dt>9</dt><dd>-8403084.46571469</dd><dt>10</dt><dd>-9711162.65542987</dd></dl>\n"
      ],
      "text/latex": [
       "\\begin{description*}\n",
       "\\item[4] -3921023.58738492\n",
       "\\item[5] -4793816.11311247\n",
       "\\item[6] -5813509.93044203\n",
       "\\item[7] -6782063.19161439\n",
       "\\item[8] -7428734.45647028\n",
       "\\item[9] -8403084.46571469\n",
       "\\item[10] -9711162.65542987\n",
       "\\end{description*}\n"
      ],
      "text/markdown": [
       "4\n",
       ":   -3921023.587384925\n",
       ":   -4793816.113112476\n",
       ":   -5813509.930442037\n",
       ":   -6782063.191614398\n",
       ":   -7428734.456470289\n",
       ":   -8403084.4657146910\n",
       ":   -9711162.65542987\n",
       "\n"
      ],
      "text/plain": [
       "       4        5        6        7        8        9       10 \n",
       "-3921024 -4793816 -5813510 -6782063 -7428734 -8403084 -9711163 "
      ]
     },
     "metadata": {},
     "output_type": "display_data"
    }
   ],
   "source": [
    "# Starting with 4 questions per trait\n",
    "# vector(mode = \"numeric\", length = 7), vector(mode = \"numeric\", length = 7)\n",
    "MCMs <- c()\n",
    "\n",
    "traits <- 2\n",
    "# #################################### 2 traits 8 variables ######################################\n",
    "df <- c(\"data/Big5/slice/big5_8vars_24-27_35-38.dat\")\n",
    "partitions <- c(\"11110000\", \"00001111\", \"11111111\")\n",
    "total_n <- 8\n",
    "\n",
    "MCMs <- MCM_SC_comparison_setup(MCMs, df, partitions, total_n, traits)\n",
    "#################################### 2 traits 10 variables ######################################\n",
    "df <- c('data/Big5/slice/big5_10vars_22_24-27_32_35-38.dat')\n",
    "partitions <- c(\"1111100000\", \"0000011111\", \"1111111111\")\n",
    "total_n <- 10\n",
    "\n",
    "MCMs <- MCM_SC_comparison_setup(MCMs, df, partitions, total_n, traits)\n",
    "# #################################### 2 traits 12 variables ######################################\n",
    "df <- c('data/Big5/slice/big5_12vars_21_22_24-27_32_35-39.dat')\n",
    "partitions <- c(\"111111000000\", \"000000111111\", \"111111111111\")\n",
    "total_n <- 12\n",
    "\n",
    "MCMs <- MCM_SC_comparison_setup(MCMs, df, partitions, total_n, traits)\n",
    "# #################################### 2 traits 14 variables ######################################\n",
    "df <- c('data/Big5/slice/big5_14vars_21_22-27_32_34-39.dat')\n",
    "partitions <- c(\"11111110000000\", \"00000001111111\", \"11111111111111\")\n",
    "total_n <- 14\n",
    "\n",
    "MCMs <- MCM_SC_comparison_setup(MCMs, df, partitions, total_n, traits)\n",
    "# #################################### 2 traits 16 variables ######################################\n",
    "df <- c('data/Big5/slice/big5_16vars_21-28_32-39.dat')\n",
    "partitions <- c(\"1111111100000000\", \"0000000011111111\", \"1111111111111111\")\n",
    "total_n <- 16\n",
    "\n",
    "MCMs <- MCM_SC_comparison_setup(MCMs, df, partitions, total_n, traits)\n",
    "# #################################### 2 traits 18 variables ######################################\n",
    "df <- c('data/Big5/slice/big5_18vars_21-29_31-39.dat')\n",
    "partitions <- c(\"111111111000000000\", \"000000000111111111\", \"111111111111111111\")\n",
    "total_n <- 18\n",
    "\n",
    "MCMs <- MCM_SC_comparison_setup(MCMs, df, partitions, total_n, traits)\n",
    "# #################################### 2 traits 20 variables ######################################\n",
    "df <- c('data/Big5/slice/big5_20vars_20-29_30-39.dat')\n",
    "partitions <- c(\"11111111110000000000\", \"00000000001111111111\", \"11111111111111111111\")\n",
    "total_n <- 20\n",
    "\n",
    "MCMs <- MCM_SC_comparison_setup(MCMs, df, partitions, total_n, traits)\n",
    "###################################################################################################\n",
    "OneCommunity_2T <- MCMs[[1]]\n",
    "SeparateCommunity_2T <- MCMs[[2]]\n",
    "\n",
    "OneCommunity_2T\n",
    "SeparateCommunity_2T "
   ]
  },
  {
   "cell_type": "code",
   "execution_count": 31,
   "metadata": {},
   "outputs": [
    {
     "data": {
      "text/html": [
       "<table class=\"dataframe\">\n",
       "<caption>A data.frame: 7 × 3</caption>\n",
       "<thead>\n",
       "\t<tr><th></th><th scope=col>OneCommunity_2T</th><th scope=col>SeparateCommunity_2T</th><th scope=col>Difference</th></tr>\n",
       "\t<tr><th></th><th scope=col>&lt;dbl&gt;</th><th scope=col>&lt;dbl&gt;</th><th scope=col>&lt;dbl&gt;</th></tr>\n",
       "</thead>\n",
       "<tbody>\n",
       "\t<tr><th scope=row>4</th><td> -3904602</td><td>-3921024</td><td> -16421.26</td></tr>\n",
       "\t<tr><th scope=row>5</th><td> -4772765</td><td>-4793816</td><td> -21051.57</td></tr>\n",
       "\t<tr><th scope=row>6</th><td> -5783135</td><td>-5813510</td><td> -30375.20</td></tr>\n",
       "\t<tr><th scope=row>7</th><td> -6749356</td><td>-6782063</td><td> -32707.21</td></tr>\n",
       "\t<tr><th scope=row>8</th><td> -7466955</td><td>-7428734</td><td>  38220.06</td></tr>\n",
       "\t<tr><th scope=row>9</th><td> -8711945</td><td>-8403084</td><td> 308860.51</td></tr>\n",
       "\t<tr><th scope=row>10</th><td>-10776627</td><td>-9711163</td><td>1065464.27</td></tr>\n",
       "</tbody>\n",
       "</table>\n"
      ],
      "text/latex": [
       "A data.frame: 7 × 3\n",
       "\\begin{tabular}{r|lll}\n",
       "  & OneCommunity\\_2T & SeparateCommunity\\_2T & Difference\\\\\n",
       "  & <dbl> & <dbl> & <dbl>\\\\\n",
       "\\hline\n",
       "\t4 &  -3904602 & -3921024 &  -16421.26\\\\\n",
       "\t5 &  -4772765 & -4793816 &  -21051.57\\\\\n",
       "\t6 &  -5783135 & -5813510 &  -30375.20\\\\\n",
       "\t7 &  -6749356 & -6782063 &  -32707.21\\\\\n",
       "\t8 &  -7466955 & -7428734 &   38220.06\\\\\n",
       "\t9 &  -8711945 & -8403084 &  308860.51\\\\\n",
       "\t10 & -10776627 & -9711163 & 1065464.27\\\\\n",
       "\\end{tabular}\n"
      ],
      "text/markdown": [
       "\n",
       "A data.frame: 7 × 3\n",
       "\n",
       "| <!--/--> | OneCommunity_2T &lt;dbl&gt; | SeparateCommunity_2T &lt;dbl&gt; | Difference &lt;dbl&gt; |\n",
       "|---|---|---|---|\n",
       "| 4 |  -3904602 | -3921024 |  -16421.26 |\n",
       "| 5 |  -4772765 | -4793816 |  -21051.57 |\n",
       "| 6 |  -5783135 | -5813510 |  -30375.20 |\n",
       "| 7 |  -6749356 | -6782063 |  -32707.21 |\n",
       "| 8 |  -7466955 | -7428734 |   38220.06 |\n",
       "| 9 |  -8711945 | -8403084 |  308860.51 |\n",
       "| 10 | -10776627 | -9711163 | 1065464.27 |\n",
       "\n"
      ],
      "text/plain": [
       "   OneCommunity_2T SeparateCommunity_2T Difference\n",
       "4   -3904602       -3921024              -16421.26\n",
       "5   -4772765       -4793816              -21051.57\n",
       "6   -5783135       -5813510              -30375.20\n",
       "7   -6749356       -6782063              -32707.21\n",
       "8   -7466955       -7428734               38220.06\n",
       "9   -8711945       -8403084              308860.51\n",
       "10 -10776627       -9711163             1065464.27"
      ]
     },
     "metadata": {},
     "output_type": "display_data"
    }
   ],
   "source": [
    "LogEs2Traits <- data.frame(OneCommunity_2T, SeparateCommunity_2T, row.names=names(OneCommunity_2T))\n",
    "LogEs2Traits$Difference <- (LogEs2Traits$SeparateCommunity - LogEs2Traits$OneCommunity)\n",
    "LogEs2Traits\n",
    "\n",
    "# library(gridExtra)\n",
    "# png(\"2TRAITSTABLE.png\", height=23*nrow(LogEs2Traits), width=140*ncol(LogEs2Traits))\n",
    "# p<-tableGrob(LogEs2Traits)\n",
    "# grid.arrange(p)\n",
    "# dev.off()"
   ]
  },
  {
   "cell_type": "markdown",
   "metadata": {},
   "source": [
    "#### LogE analysis of 3 traits \n",
    "\n",
    "Here the following 3 traits were analyzed making up a total of 30 variables:\n",
    "\n",
    "EMOTIONAL STABILITY 1\n",
    "- EST1\tI get stressed out easily.\n",
    "- EST2\tI am relaxed most of the time.\n",
    "- EST3\tI worry about things.\n",
    "- EST4\tI seldom feel blue.\n",
    "- EST5\tI am easily disturbed.\n",
    "- EST6\tI get upset easily.\n",
    "- EST7\tI change my mood a lot.\n",
    "- EST8\tI have frequent mood swings.\n",
    "- EST9\tI get irritated easily.\n",
    "- EST10\tI often feel blue.\n",
    "\n",
    "AGREEABLENESS 2\n",
    "- AGR1\tI feel little concern for others.\n",
    "- AGR2\tI am interested in people.\n",
    "- AGR3\tI insult people.\n",
    "- AGR4\tI sympathize with others' feelings.\n",
    "- AGR5\tI am not interested in other people's problems.\n",
    "- AGR6\tI have a soft heart.\n",
    "- AGR7\tI am not really interested in others.\n",
    "- AGR8\tI take time out for others.\n",
    "- AGR9\tI feel others' emotions.\n",
    "- AGR10\tI make people feel at ease.\n",
    "\n",
    "CONSCIENTIOUSNESS 3\n",
    "- CSN1\tI am always prepared.\n",
    "- CSN2\tI leave my belongings around.\n",
    "- CSN3\tI pay attention to details.\n",
    "- CSN4\tI make a mess of things.\n",
    "- CSN5\tI get chores done right away.\n",
    "- CSN6\tI often forget to put things back in their proper place.\n",
    "- CSN7\tI like order.\n",
    "- CSN8\tI shirk my duties.\n",
    "- CSN9\tI follow a schedule.\n",
    "- CSN10\tI am exacting in my work.\n",
    "\n"
   ]
  },
  {
   "cell_type": "code",
   "execution_count": 32,
   "metadata": {},
   "outputs": [
    {
     "name": "stdout",
     "output_type": "stream",
     "text": [
      "\n",
      "--->> Read \"data/Big5/slice/big5_3_12vars_10-13_20-23_30-33.dat\",\t Build Nset...\t\t data size N = 1013558\n",
      "\n",
      "--->> Build Kset...\n",
      "\n",
      "\n",
      "--->> Read \"data/Big5/slice/big5_3_12vars_10-13_20-23_30-33.dat\",\t Build Nset...\t\t data size N = 1013558\n",
      "\n",
      "--->> Build Kset...\n",
      "\n",
      "\n",
      "--->> Read \"data/Big5/slice/big5_3_15vars_10-14_20-24_30-34.dat\",\t Build Nset...\t\t data size N = 1013558\n",
      "\n",
      "--->> Build Kset...\n",
      "\n",
      "\n",
      "--->> Read \"data/Big5/slice/big5_3_15vars_10-14_20-24_30-34.dat\",\t Build Nset...\t\t data size N = 1013558\n",
      "\n",
      "--->> Build Kset...\n",
      "\n",
      "\n",
      "--->> Read \"data/Big5/slice/big5_3_18vars_10-15_20-25_30-35.dat\",\t Build Nset...\t\t data size N = 1013558\n",
      "\n",
      "--->> Build Kset...\n",
      "\n",
      "\n",
      "--->> Read \"data/Big5/slice/big5_3_18vars_10-15_20-25_30-35.dat\",\t Build Nset...\t\t data size N = 1013558\n",
      "\n",
      "--->> Build Kset...\n",
      "\n",
      "\n",
      "--->> Read \"data/Big5/slice/big5_3_21vars_10-16_20-26_30-36.dat\",\t Build Nset...\t\t data size N = 1013558\n",
      "\n",
      "--->> Build Kset...\n",
      "\n",
      "\n",
      "--->> Read \"data/Big5/slice/big5_3_21vars_10-16_20-26_30-36.dat\",\t Build Nset...\t\t data size N = 1013558\n",
      "\n",
      "--->> Build Kset...\n",
      "\n",
      "\n",
      "--->> Read \"data/Big5/slice/big5_3_24vars_10-17_20-27_30-37.dat\",\t Build Nset...\t\t data size N = 1013558\n",
      "\n",
      "--->> Build Kset...\n",
      "\n",
      "\n",
      "--->> Read \"data/Big5/slice/big5_3_24vars_10-17_20-27_30-37.dat\",\t Build Nset...\t\t data size N = 1013558\n",
      "\n",
      "--->> Build Kset...\n",
      "\n",
      "\n",
      "--->> Read \"data/Big5/slice/big5_3_27vars_10-18_20-28_30-38.dat\",\t Build Nset...\t\t data size N = 1013558\n",
      "\n",
      "--->> Build Kset...\n",
      "\n",
      "\n",
      "--->> Read \"data/Big5/slice/big5_3_27vars_10-18_20-28_30-38.dat\",\t Build Nset...\t\t data size N = 1013558\n",
      "\n",
      "--->> Build Kset...\n",
      "\n",
      "\n",
      "--->> Read \"data/Big5/slice/big5_3_30vars_10-19_20-29_30-39.dat\",\t Build Nset...\t\t data size N = 1013558\n",
      "\n",
      "--->> Build Kset...\n",
      "\n",
      "\n",
      "--->> Read \"data/Big5/slice/big5_3_30vars_10-19_20-29_30-39.dat\",\t Build Nset...\t\t data size N = 1013558\n",
      "\n",
      "--->> Build Kset...\n",
      "\n"
     ]
    },
    {
     "data": {
      "text/html": [
       "<style>\n",
       ".dl-inline {width: auto; margin:0; padding: 0}\n",
       ".dl-inline>dt, .dl-inline>dd {float: none; width: auto; display: inline-block}\n",
       ".dl-inline>dt::after {content: \":\\0020\"; padding-right: .5ex}\n",
       ".dl-inline>dt:not(:first-of-type) {padding-left: .5ex}\n",
       "</style><dl class=dl-inline><dt>4</dt><dd>-6243051.36938436</dd><dt>5</dt><dd>-7591962.6757387</dd><dt>6</dt><dd>-9507770.52808966</dd><dt>7</dt><dd>-12738206.0702272</dd><dt>8</dt><dd>-14497144.8054965</dd><dt>9</dt><dd>-25584658.4183849</dd><dt>10</dt><dd>-95640093.2685612</dd></dl>\n"
      ],
      "text/latex": [
       "\\begin{description*}\n",
       "\\item[4] -6243051.36938436\n",
       "\\item[5] -7591962.6757387\n",
       "\\item[6] -9507770.52808966\n",
       "\\item[7] -12738206.0702272\n",
       "\\item[8] -14497144.8054965\n",
       "\\item[9] -25584658.4183849\n",
       "\\item[10] -95640093.2685612\n",
       "\\end{description*}\n"
      ],
      "text/markdown": [
       "4\n",
       ":   -6243051.369384365\n",
       ":   -7591962.67573876\n",
       ":   -9507770.528089667\n",
       ":   -12738206.07022728\n",
       ":   -14497144.80549659\n",
       ":   -25584658.418384910\n",
       ":   -95640093.2685612\n",
       "\n"
      ],
      "text/plain": [
       "        4         5         6         7         8         9        10 \n",
       " -6243051  -7591963  -9507771 -12738206 -14497145 -25584658 -95640093 "
      ]
     },
     "metadata": {},
     "output_type": "display_data"
    },
    {
     "data": {
      "text/html": [
       "<style>\n",
       ".dl-inline {width: auto; margin:0; padding: 0}\n",
       ".dl-inline>dt, .dl-inline>dd {float: none; width: auto; display: inline-block}\n",
       ".dl-inline>dt::after {content: \":\\0020\"; padding-right: .5ex}\n",
       ".dl-inline>dt:not(:first-of-type) {padding-left: .5ex}\n",
       "</style><dl class=dl-inline><dt>4</dt><dd>-6397688.45739857</dd><dt>5</dt><dd>-7764988.81596381</dd><dt>6</dt><dd>-9384186.04653132</dd><dt>7</dt><dd>-10894685.1828075</dd><dt>8</dt><dd>-12098387.6552069</dd><dt>9</dt><dd>-13526014.1106777</dd><dt>10</dt><dd>-15079050.2902066</dd></dl>\n"
      ],
      "text/latex": [
       "\\begin{description*}\n",
       "\\item[4] -6397688.45739857\n",
       "\\item[5] -7764988.81596381\n",
       "\\item[6] -9384186.04653132\n",
       "\\item[7] -10894685.1828075\n",
       "\\item[8] -12098387.6552069\n",
       "\\item[9] -13526014.1106777\n",
       "\\item[10] -15079050.2902066\n",
       "\\end{description*}\n"
      ],
      "text/markdown": [
       "4\n",
       ":   -6397688.457398575\n",
       ":   -7764988.815963816\n",
       ":   -9384186.046531327\n",
       ":   -10894685.18280758\n",
       ":   -12098387.65520699\n",
       ":   -13526014.110677710\n",
       ":   -15079050.2902066\n",
       "\n"
      ],
      "text/plain": [
       "        4         5         6         7         8         9        10 \n",
       " -6397688  -7764989  -9384186 -10894685 -12098388 -13526014 -15079050 "
      ]
     },
     "metadata": {},
     "output_type": "display_data"
    }
   ],
   "source": [
    "MCMs <- c()\n",
    "traits <- 3\n",
    "# Starting with 4 questions per trait\n",
    "# #################################### 3 traits 12 variables ######################################\n",
    "df <- c(\"data/Big5/slice/big5_3_12vars_10-13_20-23_30-33.dat\")\n",
    "partitions <- c(\"111100000000\", \"000011110000\", \"000000001111\", \n",
    "                \"111111111111\")\n",
    "total_n <- 12\n",
    "\n",
    "MCMs <- MCM_SC_comparison_setup(MCMs, df, partitions, total_n, traits)\n",
    "#################################### 3 traits 15 variables ######################################\n",
    "df <- c('data/Big5/slice/big5_3_15vars_10-14_20-24_30-34.dat')\n",
    "partitions <- c(\"111110000000000\", \"000001111100000\", \"000000000011111\", \n",
    "                \"111111111111111\")\n",
    "total_n <- 15\n",
    "\n",
    "MCMs <- MCM_SC_comparison_setup(MCMs, df, partitions, total_n, traits)\n",
    "# #################################### 3 traits 18 variables ######################################\n",
    "df <- c('data/Big5/slice/big5_3_18vars_10-15_20-25_30-35.dat')\n",
    "partitions <- c(\"111111000000000000\", \"000000111111000000\", \"000000000000111111\", \n",
    "                \"111111111111111111\")\n",
    "total_n <- 18\n",
    "\n",
    "MCMs <- MCM_SC_comparison_setup(MCMs, df, partitions, total_n, traits)\n",
    "# #################################### 3 traits 21 variables ######################################\n",
    "df <- c('data/Big5/slice/big5_3_21vars_10-16_20-26_30-36.dat')\n",
    "partitions <- c(\"111111100000000000000\", \"000000011111110000000\", \"000000000000001111111\",\n",
    "                \"111111111111111111111\")\n",
    "total_n <- 21\n",
    "\n",
    "MCMs <- MCM_SC_comparison_setup(MCMs, df, partitions, total_n, traits)\n",
    "# #################################### 3 traits 24 variables ######################################\n",
    "df <- c('data/Big5/slice/big5_3_24vars_10-17_20-27_30-37.dat')\n",
    "partitions <- c(\"111111110000000000000000\", \"000000001111111100000000\", \"000000000000000011111111\",\n",
    "                \"111111111111111111111\")\n",
    "total_n <- 24\n",
    "\n",
    "MCMs <- MCM_SC_comparison_setup(MCMs, df, partitions, total_n, traits)\n",
    "# #################################### 3 traits 27 variables ######################################\n",
    "df <- c('data/Big5/slice/big5_3_27vars_10-18_20-28_30-38.dat')\n",
    "partitions <- c(\"111111111000000000000000000\", \"000000000111111111000000000\", \"000000000000000000111111111\",\n",
    "                \"111111111111111111111111\")\n",
    "total_n <- 27\n",
    "\n",
    "MCMs <- MCM_SC_comparison_setup(MCMs, df, partitions, total_n, traits)\n",
    "# #################################### 3 traits 30 variables ######################################\n",
    "df <- c('data/Big5/slice/big5_3_30vars_10-19_20-29_30-39.dat')\n",
    "partitions <- c(\"111111111100000000000000000000\", \"000000000011111111110000000000\", \"000000000000000000001111111111\",\n",
    "                \"111111111111111111111111111\")\n",
    "total_n <- 30\n",
    "\n",
    "MCMs <- MCM_SC_comparison_setup(MCMs, df, partitions, total_n, traits)\n",
    "###################################################################################################\n",
    "OneCommunity_3T <- MCMs[[1]]\n",
    "SeparateCommunity_3T <- MCMs[[2]]\n",
    "\n",
    "OneCommunity_3T\n",
    "SeparateCommunity_3T "
   ]
  },
  {
   "cell_type": "code",
   "execution_count": 33,
   "metadata": {},
   "outputs": [
    {
     "data": {
      "text/html": [
       "<table class=\"dataframe\">\n",
       "<caption>A data.frame: 7 × 3</caption>\n",
       "<thead>\n",
       "\t<tr><th></th><th scope=col>OneCommunity_3T</th><th scope=col>SeparateCommunity_3T</th><th scope=col>Difference</th></tr>\n",
       "\t<tr><th></th><th scope=col>&lt;dbl&gt;</th><th scope=col>&lt;dbl&gt;</th><th scope=col>&lt;dbl&gt;</th></tr>\n",
       "</thead>\n",
       "<tbody>\n",
       "\t<tr><th scope=row>4</th><td> -6243051</td><td> -6397688</td><td> -154637.1</td></tr>\n",
       "\t<tr><th scope=row>5</th><td> -7591963</td><td> -7764989</td><td> -173026.1</td></tr>\n",
       "\t<tr><th scope=row>6</th><td> -9507771</td><td> -9384186</td><td>  123584.5</td></tr>\n",
       "\t<tr><th scope=row>7</th><td>-12738206</td><td>-10894685</td><td> 1843520.9</td></tr>\n",
       "\t<tr><th scope=row>8</th><td>-14497145</td><td>-12098388</td><td> 2398757.2</td></tr>\n",
       "\t<tr><th scope=row>9</th><td>-25584658</td><td>-13526014</td><td>12058644.3</td></tr>\n",
       "\t<tr><th scope=row>10</th><td>-95640093</td><td>-15079050</td><td>80561043.0</td></tr>\n",
       "</tbody>\n",
       "</table>\n"
      ],
      "text/latex": [
       "A data.frame: 7 × 3\n",
       "\\begin{tabular}{r|lll}\n",
       "  & OneCommunity\\_3T & SeparateCommunity\\_3T & Difference\\\\\n",
       "  & <dbl> & <dbl> & <dbl>\\\\\n",
       "\\hline\n",
       "\t4 &  -6243051 &  -6397688 &  -154637.1\\\\\n",
       "\t5 &  -7591963 &  -7764989 &  -173026.1\\\\\n",
       "\t6 &  -9507771 &  -9384186 &   123584.5\\\\\n",
       "\t7 & -12738206 & -10894685 &  1843520.9\\\\\n",
       "\t8 & -14497145 & -12098388 &  2398757.2\\\\\n",
       "\t9 & -25584658 & -13526014 & 12058644.3\\\\\n",
       "\t10 & -95640093 & -15079050 & 80561043.0\\\\\n",
       "\\end{tabular}\n"
      ],
      "text/markdown": [
       "\n",
       "A data.frame: 7 × 3\n",
       "\n",
       "| <!--/--> | OneCommunity_3T &lt;dbl&gt; | SeparateCommunity_3T &lt;dbl&gt; | Difference &lt;dbl&gt; |\n",
       "|---|---|---|---|\n",
       "| 4 |  -6243051 |  -6397688 |  -154637.1 |\n",
       "| 5 |  -7591963 |  -7764989 |  -173026.1 |\n",
       "| 6 |  -9507771 |  -9384186 |   123584.5 |\n",
       "| 7 | -12738206 | -10894685 |  1843520.9 |\n",
       "| 8 | -14497145 | -12098388 |  2398757.2 |\n",
       "| 9 | -25584658 | -13526014 | 12058644.3 |\n",
       "| 10 | -95640093 | -15079050 | 80561043.0 |\n",
       "\n"
      ],
      "text/plain": [
       "   OneCommunity_3T SeparateCommunity_3T Difference\n",
       "4   -6243051        -6397688             -154637.1\n",
       "5   -7591963        -7764989             -173026.1\n",
       "6   -9507771        -9384186              123584.5\n",
       "7  -12738206       -10894685             1843520.9\n",
       "8  -14497145       -12098388             2398757.2\n",
       "9  -25584658       -13526014            12058644.3\n",
       "10 -95640093       -15079050            80561043.0"
      ]
     },
     "metadata": {},
     "output_type": "display_data"
    }
   ],
   "source": [
    "LogEs3Traits <- data.frame(OneCommunity_3T, SeparateCommunity_3T, row.names=names(OneCommunity_3T))\n",
    "LogEs3Traits$Difference <- (LogEs3Traits$SeparateCommunity_3T - LogEs3Traits$OneCommunity_3T)\n",
    "LogEs3Traits\n",
    "\n",
    "# png(\"3TRAITSTABLE.png\", height=23*nrow(LogEs3Traits), width=140*ncol(LogEs3Traits))\n",
    "# p<-tableGrob(LogEs3Traits)\n",
    "# grid.arrange(p)\n",
    "# dev.off()\n"
   ]
  },
  {
   "cell_type": "markdown",
   "metadata": {},
   "source": [
    "### LogE Comparison results"
   ]
  },
  {
   "cell_type": "code",
   "execution_count": 34,
   "metadata": {},
   "outputs": [
    {
     "data": {
      "image/png": "[encoded data removed]",
      "text/plain": [
       "Plot with title “Big5 data-set \n",
       " Difference in LogE of MCM with operators all in one community \n",
       " versus separated into equally sized communities”"
      ]
     },
     "metadata": {
      "image/png": {
       "height": 420,
       "width": 420
      }
     },
     "output_type": "display_data"
    }
   ],
   "source": [
    "x <- 1:7 \n",
    "# png(file = \"LogE_difference.png\",   # The directory you want to save the file in\n",
    "#     width = 800, # The width of the plot in inches\n",
    "#     height = 500) # The height of the plot in inches\n",
    "\n",
    "plot(x, LogEs2Traits$Difference,\n",
    "    type = \"o\",\n",
    "    ylab=\"Log-evidence\",\n",
    "    xlab=\"Amount of questions per trait (n = Traits*questions per trait)\",\n",
    "    xaxt = \"n\",\n",
    "#     log=\"y\",\n",
    "    col=\"purple\")\n",
    "abline(h=0, col=\"black\")\n",
    "# axis(side=2, at = 1*10^(-10:6),label=c(format(1 * 10^(-10:6), scientific=F) ), las=2 )\n",
    "lines(x, LogEs3Traits$Difference, type=\"b\", col=\"blue\")\n",
    "\n",
    "# Rest\n",
    "Traits <- c(\"4\", \"5\", \"6\", \"7\", \"8\", \"9\",\"10\")\n",
    "# X-axis\n",
    "axis(1, at = x, labels=Traits)\n",
    "# Rest\n",
    "title(\"Big5 data-set \\n Difference in LogE of MCM with operators all in one community \\n versus separated into equally sized communities\")\n",
    "legend(\"topleft\", c(\"2 Traits\", \"3 Traits\"), fill=c(\"purple\" , \"blue\"))\n",
    "# dev.off()"
   ]
  },
  {
   "cell_type": "markdown",
   "metadata": {},
   "source": [
    "### Conclusion\n",
    "\n",
    "The graph above shows that for the data-set containing questions of 2 traits (total of 20 questions) at least 8 questions per trait are needed in order for the MCM separating them into 2 different partitions to be better than the one in which they are all in one partition. When a set of traits is added to the 2 traits making the total amount of analyzed questions 30, this amount becomes even lower. With 3 traits, the added questions per trait at which the difference becomes positive is 6. "
   ]
  },
  {
   "cell_type": "markdown",
   "metadata": {},
   "source": [
    "[Jump to the start](#start)"
   ]
  }
 ],
 "metadata": {
  "kernelspec": {
   "display_name": "R",
   "language": "R",
   "name": "ir"
  },
  "language_info": {
   "codemirror_mode": "r",
   "file_extension": ".r",
   "mimetype": "text/x-r-source",
   "name": "R",
   "pygments_lexer": "r",
   "version": "4.1.2"
  }
 },
 "nbformat": 4,
 "nbformat_minor": 4
}
